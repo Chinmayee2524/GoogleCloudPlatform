{
 "cells": [
  {
   "cell_type": "markdown",
   "metadata": {},
   "source": [
    "# Google Cloud Storage\n",
    "\n",
    "This page shows how to get started with the [Google Cloud Storage Python client library](https://googleapis.github.io/google-cloud-python/latest/storage/index.html)."
   ]
  },
  {
   "cell_type": "markdown",
   "metadata": {},
   "source": [
    "## Create a storage bucket\n",
    "\n",
    "Buckets are the basic containers that hold your data. Everything that you store in Cloud Storage must be contained in a bucket. You can use buckets to organize your data and control access to your data.\n",
    "\n",
    "Start by importing the library:"
   ]
  },
  {
   "cell_type": "code",
   "execution_count": null,
   "metadata": {},
   "outputs": [],
   "source": [
    "from google.cloud import storage"
   ]
  },
  {
   "cell_type": "markdown",
   "metadata": {},
   "source": [
    "Next, initialize a client object, which is used to interact with the Google Cloud Storage API. The project used by the client will default to the project associated with the credentials file stored in the `GOOGLE_APPLICATION_CREDENTIALS` environment variable.\n",
    "\n",
    "See the [google-auth](https://google-auth.readthedocs.io/en/latest/reference/google.auth.html) for more information about Application Default Credentials.\n",
    "\n",
    "Run the following to create a client with your default project:"
   ]
  },
  {
   "cell_type": "code",
   "execution_count": null,
   "metadata": {},
   "outputs": [],
   "source": [
    "client = storage.Client()\n",
    "print(\"Client creating using default project: {}\".format(client.project))"
   ]
  },
  {
   "cell_type": "markdown",
   "metadata": {},
   "source": [
    "Alternatively, you can explicitly specify a project when constructing the client:"
   ]
  },
  {
   "cell_type": "code",
   "execution_count": null,
   "metadata": {},
   "outputs": [],
   "source": [
    "client = storage.Client(project=\"your-project-id\")"
   ]
  },
  {
   "cell_type": "markdown",
   "metadata": {},
   "source": [
    "Finally, create a bucket with a globally unique name."
   ]
  },
  {
   "cell_type": "code",
   "execution_count": null,
   "metadata": {},
   "outputs": [],
   "source": [
    "# Replace the string below with a unique name for the new bucket\n",
    "bucket_name = 'your-new-bucket'\n",
    "\n",
    "# Creates the new bucket\n",
    "bucket = client.create_bucket(bucket_name)\n",
    "\n",
    "print('Bucket {} created.'.format(bucket.name))"
   ]
  },
  {
   "cell_type": "markdown",
   "metadata": {},
   "source": [
    "For more information, see [Creating Storage Buckets](https://cloud.google.com/storage/docs/creating-buckets) in the Cloud Storage documentation."
   ]
  },
  {
   "cell_type": "markdown",
   "metadata": {},
   "source": [
    "### List buckets in a project"
   ]
  },
  {
   "cell_type": "code",
   "execution_count": null,
   "metadata": {},
   "outputs": [],
   "source": [
    "buckets = client.list_buckets()\n",
    "\n",
    "print(\"Buckets in {}:\".format(client.project))\n",
    "for item in buckets:\n",
    "    print(\"\\t\" + item.name)"
   ]
  },
  {
   "cell_type": "markdown",
   "metadata": {},
   "source": [
    "### Get bucket metadata"
   ]
  },
  {
   "cell_type": "code",
   "execution_count": null,
   "metadata": {},
   "outputs": [],
   "source": [
    "bucket = client.get_bucket(bucket_name)"
   ]
  },
  {
   "cell_type": "markdown",
   "metadata": {},
   "source": [
    "## Objects\n",
    "\n",
    "Objects are the individual pieces of data that you store in Cloud Storage. There is no limit on the number of objects that you can create in a bucket.\n",
    "\n",
    "An object's name is treated as a piece of object metadata in Cloud Storage. Object names can contain any combination of Unicode characters (UTF-8 encoded) and must be less than 1024 bytes in length.\n",
    "\n",
    "Though data in storage buckets is stored similar to a local file system, Google Cloud Storage is a key/value pair object store. A common character to include in object names to emulate directory structure is a slash (/). By using slashes, you can make objects appear as though they're stored in a hierarchical structure. For example, you could name one object `/europe/france/paris.jpg` and another object `/europe/france/cannes.jpg`. When you list these objects, they appear to be in a hierarchical directory structure based on location; however, Cloud Storage sees the objects as independent with no hierarchical relationship whatsoever.\n",
    "\n",
    "For more information, including how to rename an object, see the [object naming guidelines](https://cloud.google.com/storage/docs/naming#objectnames)."
   ]
  },
  {
   "cell_type": "markdown",
   "metadata": {},
   "source": [
    "### Upload a local file to a bucket"
   ]
  },
  {
   "cell_type": "code",
   "execution_count": null,
   "metadata": {
    "scrolled": true
   },
   "outputs": [],
   "source": [
    "blob_name = 'us-states.txt'\n",
    "blob = bucket.blob(blob_name)\n",
    "\n",
    "source_file_name = 'resources/us-states.txt'\n",
    "blob.upload_from_filename(source_file_name)\n",
    "\n",
    "print('File uploaded to {}.'.format(bucket.name))"
   ]
  },
  {
   "cell_type": "markdown",
   "metadata": {},
   "source": [
    "### List blobs in a bucket"
   ]
  },
  {
   "cell_type": "code",
   "execution_count": null,
   "metadata": {
    "scrolled": true
   },
   "outputs": [],
   "source": [
    "blobs = bucket.list_blobs()\n",
    "\n",
    "print(\"Blobs in {}:\".format(bucket.name))\n",
    "for item in blobs:\n",
    "    print(\"\\t\" + item.name)"
   ]
  },
  {
   "cell_type": "markdown",
   "metadata": {},
   "source": [
    "### Get a blob and display metadata\n",
    "See [documentation](https://cloud.google.com/storage/docs/viewing-editing-metadata) for more information about object metadata."
   ]
  },
  {
   "cell_type": "code",
   "execution_count": null,
   "metadata": {},
   "outputs": [],
   "source": [
    "blob = bucket.get_blob(blob_name)\n",
    "\n",
    "print('Select metadata for blob {}:'.format(blob_name))\n",
    "print('\\tID: {}'.format(blob.id))\n",
    "print('\\tSize: {} bytes'.format(blob.size))\n",
    "print('\\tUpdated: {}'.format(blob.updated))"
   ]
  },
  {
   "cell_type": "markdown",
   "metadata": {},
   "source": [
    "### Download a blob to a local directory"
   ]
  },
  {
   "cell_type": "code",
   "execution_count": null,
   "metadata": {
    "scrolled": true
   },
   "outputs": [],
   "source": [
    "output_file_name = 'resources/downloaded-us-states.txt'\n",
    "blob.download_to_filename(output_file_name)\n",
    "\n",
    "print('Downloaded blob {} to {}.'.format(blob.name, output_file_name))"
   ]
  },
  {
   "cell_type": "markdown",
   "metadata": {},
   "source": [
    "## Cleaning up"
   ]
  },
  {
   "cell_type": "markdown",
   "metadata": {},
   "source": [
    "### Delete a blob"
   ]
  },
  {
   "cell_type": "code",
   "execution_count": null,
   "metadata": {},
   "outputs": [],
   "source": [
    "blob = client.get_bucket(bucket_name).get_blob(blob_name)\n",
    "blob.delete()\n",
    "\n",
    "print('Blob {} deleted.'.format(blob.name))"
   ]
  },
  {
   "cell_type": "markdown",
   "metadata": {},
   "source": [
    "### Delete a bucket"
   ]
  },
  {
   "cell_type": "code",
   "execution_count": null,
   "metadata": {},
   "outputs": [],
   "source": [
    "bucket = client.get_bucket(bucket_name)\n",
    "bucket.delete()\n",
    "\n",
    "print('Bucket {} deleted.'.format(bucket.name))"
   ]
  }
 ],
 "metadata": {
  "kernelspec": {
   "display_name": "Local google-cloud-bigquery development",
   "language": "python",
   "name": "venv"
  },
  "language_info": {
   "codemirror_mode": {
    "name": "ipython",
    "version": 3
   },
   "file_extension": ".py",
   "mimetype": "text/x-python",
   "name": "python",
   "nbconvert_exporter": "python",
   "pygments_lexer": "ipython3",
   "version": "3.6.4"
  }
 },
 "nbformat": 4,
 "nbformat_minor": 1
}
