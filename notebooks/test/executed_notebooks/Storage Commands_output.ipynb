{
 "cells": [
  {
   "cell_type": "code",
   "execution_count": 1,
   "metadata": {},
   "outputs": [],
   "source": [
    "%matplotlib inline"
   ]
  },
  {
   "cell_type": "code",
   "execution_count": 2,
   "metadata": {},
   "outputs": [],
   "source": [
    "%load_ext google.cloud.bigquery"
   ]
  },
  {
   "cell_type": "markdown",
   "metadata": {},
   "source": [
    "# Storage Commands\n",
    "\n",
    "The [Google Cloud SDK](https://cloud-dot-devsite.googleplex.com/sdk/docs/) provides a set of commands for working with data stored in Google Cloud Storage.\n",
    "\n",
    "This notebook introduces several `gsutil` commands for interacting with Cloud Storage."
   ]
  },
  {
   "cell_type": "markdown",
   "metadata": {},
   "source": [
    "## List available commands\n",
    "\n",
    "The `gsutil` command can be used to perform a wide array of tasks. Run the `help` command to view a list of available commands:"
   ]
  },
  {
   "cell_type": "code",
   "execution_count": 3,
   "metadata": {
    "scrolled": true
   },
   "outputs": [
    {
     "name": "stdout",
     "output_type": "stream",
     "text": [
      "Usage: gsutil [-D] [-DD] [-h header]... [-m] [-o] [-q] [command [opts...] args...]\r\n",
      "Available commands:\r\n",
      "  acl             Get, set, or change bucket and/or object ACLs\r\n",
      "  cat             Concatenate object content to stdout\r\n",
      "  compose         Concatenate a sequence of objects into a new composite object.\r\n",
      "  config          Obtain credentials and create configuration file\r\n",
      "  cors            Get or set a CORS JSON document for one or more buckets\r\n",
      "  cp              Copy files and objects\r\n",
      "  defacl          Get, set, or change default ACL on buckets\r\n",
      "  defstorageclass Get or set the default storage class on buckets\r\n",
      "  du              Display object size usage\r\n",
      "  hash            Calculate file hashes\r\n",
      "  help            Get help about commands and topics\r\n",
      "  iam             Get, set, or change bucket and/or object IAM permissions.\r\n",
      "  kms             Configure Cloud KMS encryption\r\n",
      "  label           Get, set, or change the label configuration of a bucket.\r\n",
      "  lifecycle       Get or set lifecycle configuration for a bucket\r\n",
      "  logging         Configure or retrieve logging on buckets\r\n",
      "  ls              List providers, buckets, or objects\r\n",
      "  mb              Make buckets\r\n",
      "  mv              Move/rename objects and/or subdirectories\r\n",
      "  notification    Configure object change notification\r\n",
      "  perfdiag        Run performance diagnostic\r\n",
      "  rb              Remove buckets\r\n",
      "  requesterpays   Enable or disable requester pays for one or more buckets\r\n",
      "  retention       Provides utilities to interact with Retention Policy feature.\r\n",
      "  rewrite         Rewrite objects\r\n",
      "  rm              Remove objects\r\n",
      "  rsync           Synchronize content of two buckets/directories\r\n",
      "  setmeta         Set metadata on already uploaded objects\r\n",
      "  signurl         Create a signed url\r\n",
      "  stat            Display object status\r\n",
      "  test            Run gsutil unit/integration tests (for developers)\r\n",
      "  update          Update to the latest gsutil release\r\n",
      "  version         Print version info about gsutil\r\n",
      "  versioning      Enable or suspend versioning for one or more buckets\r\n",
      "  web             Set a main page and/or error page for one or more buckets\r\n",
      "\r\n",
      "Additional help topics:\r\n",
      "  acls            Working With Access Control Lists\r\n",
      "  anon            Accessing Public Data Without Credentials\r\n",
      "  apis            Cloud Storage APIs\r\n",
      "  crc32c          CRC32C and Installing crcmod\r\n",
      "  creds           Credential Types Supporting Various Use Cases\r\n",
      "  dev             Contributing Code to gsutil\r\n",
      "  encoding        Filename encoding and interoperability problems\r\n",
      "  encryption      Using Encryption Keys\r\n",
      "  metadata        Working With Object Metadata\r\n",
      "  naming          Object and Bucket Naming\r\n",
      "  options         Top-Level Command-Line Options\r\n",
      "  prod            Scripting Production Transfers\r\n",
      "  projects        Working With Projects\r\n",
      "  retries         Retry Handling Strategy\r\n",
      "  security        Security and Privacy Considerations\r\n",
      "  subdirs         How Subdirectories Work\r\n",
      "  support         Google Cloud Storage Support\r\n",
      "  throttling      Throttling gsutil\r\n",
      "  versions        Object Versioning and Concurrency Control\r\n",
      "  wildcards       Wildcard Names\r\n",
      "\r\n",
      "Use gsutil help <command or topic> for detailed help."
     ]
    }
   ],
   "source": [
    "!gsutil help"
   ]
  },
  {
   "cell_type": "markdown",
   "metadata": {},
   "source": [
    "## Buckets\n",
    "\n",
    "Buckets are the basic containers that hold your data. Everything that you\n",
    "store in Cloud Storage must be contained in a bucket. You can use buckets to\n",
    "organize your data and control access to your data."
   ]
  },
  {
   "cell_type": "markdown",
   "metadata": {},
   "source": [
    "### Create a bucket\n",
    "\n",
    "When you [create a bucket](https://cloud.google.com/storage/docs/creating-buckets),\n",
    "you specify a globally-unique name."
   ]
  },
  {
   "cell_type": "code",
   "execution_count": 4,
   "metadata": {},
   "outputs": [],
   "source": [
    "# Replace the string below with a unique name for the new bucket\n",
    "bucket_name = 'test-storage-bucket-1548268945185'"
   ]
  },
  {
   "cell_type": "markdown",
   "metadata": {},
   "source": [
    "NOTE: In the examples below, the variables are referenced in the command using `$` and `{}`. You may replace the interpolated variables with literal values if they are constant instead of creating and using variables."
   ]
  },
  {
   "cell_type": "code",
   "execution_count": 5,
   "metadata": {},
   "outputs": [
    {
     "name": "stdout",
     "output_type": "stream",
     "text": [
      "Creating gs://test-storage-bucket-1548268945185/...\r\n"
     ]
    }
   ],
   "source": [
    "!gsutil mb gs://{bucket_name}/"
   ]
  },
  {
   "cell_type": "markdown",
   "metadata": {},
   "source": [
    "### List buckets in a project\n",
    "\n",
    "Replace 'your-project-id' in the cell below with your project ID and run the cell to list the storage buckets in your project."
   ]
  },
  {
   "cell_type": "code",
   "execution_count": 6,
   "metadata": {},
   "outputs": [
    {
     "name": "stdout",
     "output_type": "stream",
     "text": [
      "gs://ajhamilton-scratch/\r\n",
      "gs://my-new-bucket-1548180688764/\r\n",
      "gs://my-new-bucket-1548208228513/\r\n",
      "gs://test-storage-bucket-1548209987490/\r\n",
      "gs://test-storage-bucket-1548268945185/\r\n"
     ]
    }
   ],
   "source": [
    "!gsutil ls -p ajhamilton-scratch"
   ]
  },
  {
   "cell_type": "markdown",
   "metadata": {},
   "source": [
    "## Objects\n",
    "\n",
    "Objects are the individual pieces of data that you store in Cloud Storage.\n",
    "There is no limit on the number of objects that you can create in a bucket."
   ]
  },
  {
   "cell_type": "markdown",
   "metadata": {},
   "source": [
    "### Upload a local file to a bucket"
   ]
  },
  {
   "cell_type": "code",
   "execution_count": 7,
   "metadata": {},
   "outputs": [
    {
     "name": "stdout",
     "output_type": "stream",
     "text": [
      "Copying file://resources/us-states.txt [Content-Type=text/plain]...\r\n",
      "/ [0 files][    0.0 B/  637.0 B]                                                \r"
     ]
    },
    {
     "name": "stdout",
     "output_type": "stream",
     "text": [
      "/ [1 files][  637.0 B/  637.0 B]                                                \r",
      "-\r",
      "\r\n",
      "Operation completed over 1 objects/637.0 B.                                      \r\n"
     ]
    }
   ],
   "source": [
    "!gsutil cp resources/us-states.txt gs://{bucket_name}/"
   ]
  },
  {
   "cell_type": "markdown",
   "metadata": {},
   "source": [
    "### List blobs in a bucket"
   ]
  },
  {
   "cell_type": "code",
   "execution_count": 8,
   "metadata": {
    "scrolled": true
   },
   "outputs": [
    {
     "name": "stdout",
     "output_type": "stream",
     "text": [
      "gs://test-storage-bucket-1548268945185/us-states.txt\r\n"
     ]
    }
   ],
   "source": [
    "!gsutil ls -r gs://{bucket_name}/**"
   ]
  },
  {
   "cell_type": "markdown",
   "metadata": {},
   "source": [
    "### Get a blob and display metadata\n",
    "See [documentation](https://cloud.google.com/storage/docs/viewing-editing-metadata) for more information about object metadata."
   ]
  },
  {
   "cell_type": "code",
   "execution_count": 9,
   "metadata": {},
   "outputs": [
    {
     "name": "stdout",
     "output_type": "stream",
     "text": [
      "gs://test-storage-bucket-1548268945185/us-states.txt:\r\n",
      "    Creation time:          Wed, 23 Jan 2019 18:42:37 GMT\r\n",
      "    Update time:            Wed, 23 Jan 2019 18:42:37 GMT\r\n",
      "    Storage class:          STANDARD\r\n",
      "    Content-Language:       en\r\n",
      "    Content-Length:         637\r\n",
      "    Content-Type:           text/plain\r\n",
      "    Hash (crc32c):          AmYMRQ==\r\n",
      "    Hash (md5):             NmfddAHdCzyvAHCifeGtwg==\r\n",
      "    ETag:                   CIKl+anHhOACEAE=\r\n",
      "    Generation:             1548268957749890\r\n",
      "    Metageneration:         1\r\n",
      "    ACL:                    [\r\n",
      "  {\r\n",
      "    \"entity\": \"project-owners-129776587519\",\r\n",
      "    \"projectTeam\": {\r\n",
      "      \"projectNumber\": \"129776587519\",\r\n",
      "      \"team\": \"owners\"\r\n",
      "    },\r\n",
      "    \"role\": \"OWNER\"\r\n",
      "  },\r\n",
      "  {\r\n",
      "    \"entity\": \"project-editors-129776587519\",\r\n",
      "    \"projectTeam\": {\r\n",
      "      \"projectNumber\": \"129776587519\",\r\n",
      "      \"team\": \"editors\"\r\n",
      "    },\r\n",
      "    \"role\": \"OWNER\"\r\n",
      "  },\r\n",
      "  {\r\n",
      "    \"entity\": \"project-viewers-129776587519\",\r\n",
      "    \"projectTeam\": {\r\n",
      "      \"projectNumber\": \"129776587519\",\r\n",
      "      \"team\": \"viewers\"\r\n",
      "    },\r\n",
      "    \"role\": \"READER\"\r\n",
      "  },\r\n",
      "  {\r\n",
      "    \"email\": \"ajhamilton@google.com\",\r\n",
      "    \"entity\": \"user-ajhamilton@google.com\",\r\n",
      "    \"role\": \"OWNER\"\r\n",
      "  }\r\n",
      "]\r\n",
      "TOTAL: 1 objects, 637 bytes (637 B)\r\n"
     ]
    }
   ],
   "source": [
    "!gsutil ls -L  gs://{bucket_name}/us-states.txt"
   ]
  },
  {
   "cell_type": "markdown",
   "metadata": {},
   "source": [
    "### Download a blob to a local directory"
   ]
  },
  {
   "cell_type": "code",
   "execution_count": 10,
   "metadata": {
    "scrolled": true
   },
   "outputs": [
    {
     "name": "stdout",
     "output_type": "stream",
     "text": [
      "Copying gs://test-storage-bucket-1548268945185/us-states.txt...\r\n",
      "/ [0 files][    0.0 B/  637.0 B]                                                \r"
     ]
    },
    {
     "name": "stdout",
     "output_type": "stream",
     "text": [
      "/ [1 files][  637.0 B/  637.0 B]                                                \r",
      "\r\n",
      "Operation completed over 1 objects/637.0 B.                                      \r\n"
     ]
    }
   ],
   "source": [
    "!gsutil cp gs://{bucket_name}/us-states.txt resources/downloaded-us-states.txt"
   ]
  },
  {
   "cell_type": "markdown",
   "metadata": {},
   "source": [
    "## Cleaning up"
   ]
  },
  {
   "cell_type": "markdown",
   "metadata": {},
   "source": [
    "### Delete a blob"
   ]
  },
  {
   "cell_type": "code",
   "execution_count": 11,
   "metadata": {
    "scrolled": true
   },
   "outputs": [
    {
     "name": "stdout",
     "output_type": "stream",
     "text": [
      "Removing gs://test-storage-bucket-1548268945185/us-states.txt...\r\n"
     ]
    },
    {
     "name": "stdout",
     "output_type": "stream",
     "text": [
      "/ [1 objects]                                                                   \r",
      "\r\n",
      "Operation completed over 1 objects.                                              \r\n"
     ]
    }
   ],
   "source": [
    "!gsutil rm gs://{bucket_name}/us-states.txt"
   ]
  },
  {
   "cell_type": "markdown",
   "metadata": {},
   "source": [
    "### Delete a bucket"
   ]
  },
  {
   "cell_type": "code",
   "execution_count": 12,
   "metadata": {},
   "outputs": [
    {
     "name": "stdout",
     "output_type": "stream",
     "text": [
      "Removing gs://test-storage-bucket-1548268945185/...\r\n"
     ]
    }
   ],
   "source": [
    "!gsutil rm -r gs://{bucket_name}/"
   ]
  }
 ],
 "metadata": {
  "kernelspec": {
   "display_name": "Local google-cloud-bigquery development",
   "language": "python",
   "name": "venv"
  },
  "language_info": {
   "codemirror_mode": {
    "name": "ipython",
    "version": 3
   },
   "file_extension": ".py",
   "mimetype": "text/x-python",
   "name": "python",
   "nbconvert_exporter": "python",
   "pygments_lexer": "ipython3",
   "version": "3.6.4"
  }
 },
 "nbformat": 4,
 "nbformat_minor": 1
}
