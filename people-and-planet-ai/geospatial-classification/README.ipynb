{
 "cells": [
  {
   "cell_type": "code",
   "execution_count": 260,
   "id": "77c0f36a",
   "metadata": {},
   "outputs": [],
   "source": [
    "###### Licensed to the Apache Software Foundation (ASF), Version 2.0 (the \"License\")\n",
    "\n",
    "# Licensed to the Apache Software Foundation (ASF) under one\n",
    "# or more contributor license agreements. See the NOTICE file\n",
    "# distributed with this work for additional information\n",
    "# regarding copyright ownership. The ASF licenses this file\n",
    "# to you under the Apache License, Version 2.0 (the\n",
    "# \"License\"); you may not use this file except in compliance\n",
    "# with the License. You may obtain a copy of the License at\n",
    "#\n",
    "#   http://www.apache.org/licenses/LICENSE-2.0\n",
    "#\n",
    "# Unless required by applicable law or agreed to in writing,\n",
    "# software distributed under the License is distributed on an\n",
    "# \"AS IS\" BASIS, WITHOUT WARRANTIES OR CONDITIONS OF ANY\n",
    "# KIND, either express or implied. See the License for the\n",
    "# specific language governing permissions and limitations\n",
    "# under the License."
   ]
  },
  {
   "cell_type": "markdown",
   "id": "3683a5f8",
   "metadata": {},
   "source": [
    "# Power Plant Predictions\n",
    "\n",
    "* **Time estimate**: 1 hour\n",
    "* **Cost estimate**: less than $5.00 USD\n",
    "\n",
    "This is an interactive notebook that contains all of the code necessary to train an ML model for geospatial classification."
   ]
  },
  {
   "cell_type": "markdown",
   "id": "922968ad",
   "metadata": {},
   "source": [
    "# Overview\n",
    "\n",
    "This notebook leverages geospatial data from [Google Earth Engine](https://earthengine.google.com/) and labeled data provided by the organization [Climate TRACE](https://www.climatetrace.org/). By combining these two data sources, you'll build and train a model that predicts whether or not a power plant is turned on and producing emissions."
   ]
  },
  {
   "cell_type": "markdown",
   "id": "8f15adff",
   "metadata": {},
   "source": [
    "### Data _(inputs)_\n",
    "\n",
    "The data in this example consists of satellite images from [Sentinel-2](https://developers.google.com/earth-engine/datasets/catalog/COPERNICUS_S2#description), a wide-swath, high-resolution, multi-spectral imaging mission.\n",
    "\n",
    "When working with satellite data, each input image has the dimensions `[width, height, bands]`. Bands are measurements from specific satellite instruments for different ranges of the electromagnetic spectrum. For example, Sentinel-2 contains [13 spectral bands](https://developers.google.com/earth-engine/datasets/catalog/COPERNICUS_S2#bands). If you are familiar with image classification problems, you can think of the bands as similar to an image's RGB channels. However, when working with satellite data we generally have more than just 3 channels.\n",
    "\n",
    "![satellite_inputs](img/inputs.png)\n",
    "\n"
   ]
  },
  {
   "cell_type": "markdown",
   "id": "d15be296",
   "metadata": {},
   "source": [
    "### Labels _(outputs)_\n",
    "\n",
    "For each image that we give to the model, the output will be a binary indicator for each pixel in the image indicating whether or not that pixel represents a power plant that is turned on.\n",
    "\n",
    "In this example, the output dimensions will be `[width, height, classes]`, where classes is 1 because this is a binary classification problem (on or off).\n",
    "\n",
    "![satellite_outputs](img/outputs.png)\n"
   ]
  },
  {
   "cell_type": "markdown",
   "id": "4dce50bc",
   "metadata": {},
   "source": [
    "### Model _(function)_\n",
    "\n",
    "One problem you often run into when doing geospatial classification is sparse labels, meaning that we only have labels for a selection of points within a region. \n",
    "\n",
    "![sparse_labels](img/sparse_labels.png)\n",
    "\n",
    "In this example, we have a CSV file of labels. Each row in this file represents a power plant at a specific lat/lon and timestamp. To deal with the sparsity, at training time we'll prepare a dataset where each input image is a single pixel that we have a label for. We will then add a padding around that image. These padded pixels will not get predictions, but will help our model to make better predictions for the center point that we have a label for.\n",
    "\n",
    "For example, with a padding of 16, each 1 pixel input point would become a 33x33 image after the padding is added.\n",
    "\n",
    "![training](img/training.png)\n",
    "\n",
    "\n",
    "At prediction time, we can pass in an image of any size. We'll add a layer of padding around the image, and will get predictions for each pixel except for the padding.\n",
    "\n",
    "To handle the variable input size, we'll use a fully convolutional neural network. Using this type of architecture will allow us to have variable input image sizes. Note that while the height and width of the image can be variable, the number of bands must be constant."
   ]
  },
  {
   "cell_type": "markdown",
   "id": "3547aec6",
   "metadata": {},
   "source": [
    "## Steps summary\n",
    "\n",
    "Here's a quick summary of what you’ll go through:\n",
    "\n",
    "1. **Get the training data**:\n",
    "  Extract satellite data from [Earth Engine](https://earthengine.google.com/), combine it with the labels from Climate TRACE, and export to\n",
    "  [Cloud Storage](https://cloud.google.com/storage).\n",
    "\n",
    "1. **Run custom training job**:\n",
    "  Run a custom training job on [Vertex AI Training](https://cloud.google.com/vertex-ai/docs/training/custom-training) using a [pre-built training container](https://cloud.google.com/vertex-ai/docs/training/pre-built-containers).\n",
    "\n",
    "1. **Deploy to Cloud Run**:\n",
    "  Deploy a web service in\n",
    "  [Cloud Run](https://cloud.google.com/run)\n",
    "  to get predictions using the trained model.\n",
    "\n",
    "1. **Get Predictions**:\n",
    "  Use the web service to get predictions for new data.\n",
    "\n",
    "1. **Visualize predictions**:\n",
    "  Visualize the preductions on a map.\n",
    "\n",
    "1. (Optional) **Delete the project** to avoid ongoing costs."
   ]
  },
  {
   "cell_type": "markdown",
   "id": "f0033a40",
   "metadata": {},
   "source": [
    "# Before you begin"
   ]
  },
  {
   "cell_type": "markdown",
   "id": "980b439f-03bb-427f-ae61-4d6d5f066d15",
   "metadata": {},
   "source": [
    "### Make sure you provide a regional bucket!"
   ]
  },
  {
   "cell_type": "code",
   "execution_count": null,
   "id": "246702e7",
   "metadata": {},
   "outputs": [],
   "source": [
    "#@title My Google Cloud resources\n",
    "project = '' #@param {type:\"string\"}\n",
    "bucket = '' #@param {type:\"string\"}\n",
    "region = 'us-central1' #@param {type:\"string\"}\n",
    "\n",
    "# Validate the inputs.\n",
    "if not project:\n",
    "  raise ValueError(f\"Please provide a value for 'project'\")\n",
    "if not bucket:\n",
    "  raise ValueError(f\"Please provide a value for 'bucket'\")\n",
    "if not region:\n",
    "  raise ValueError(f\"Please provide a value for 'region'\")\n",
    "\n",
    "# Authenticate\n",
    "from google.colab import auth\n",
    "\n",
    "auth.authenticate_user()\n",
    "print('Authenticated')\n",
    "\n",
    "!gcloud config set project {project}"
   ]
  },
  {
   "cell_type": "markdown",
   "id": "156ab72c",
   "metadata": {},
   "source": [
    "## Getting the code\n",
    "\n",
    "Run ▶️ the following cell to download the code sample's source code."
   ]
  },
  {
   "cell_type": "code",
   "execution_count": 332,
   "id": "c2848f6d",
   "metadata": {},
   "outputs": [],
   "source": [
    "# Get the sample source code.\n",
    "\n",
    "## TODO"
   ]
  },
  {
   "cell_type": "markdown",
   "id": "8a363277-2195-42b4-83e7-3e3921bb3db1",
   "metadata": {},
   "source": [
    "### Install the Vertex AI SDK"
   ]
  },
  {
   "cell_type": "code",
   "execution_count": null,
   "id": "fc25399d-7d5d-4050-9442-2ef2c7d83e82",
   "metadata": {},
   "outputs": [],
   "source": [
    "!pip3 install --user --upgrade google-cloud-aiplatform"
   ]
  },
  {
   "cell_type": "code",
   "execution_count": null,
   "id": "63dffaaf-5321-47e7-9dfa-ff82cd0e6303",
   "metadata": {},
   "outputs": [],
   "source": [
    "from google.cloud import aiplatform"
   ]
  },
  {
   "cell_type": "code",
   "execution_count": null,
   "id": "45965fcc-2ff1-4b27-8c20-6f6af7667271",
   "metadata": {},
   "outputs": [],
   "source": [
    "aiplatform.init(project=project, staging_bucket=bucket)"
   ]
  },
  {
   "cell_type": "markdown",
   "id": "4ec73dd9",
   "metadata": {},
   "source": [
    "### Authenticate to Earth Engine\n",
    "\n",
    "In order to use the Earth Engine API, you'll need to have an Earth Engine account.\n",
    "\n",
    "To create an account, fill out the [registration form here.](https://signup.earthengine.google.com/#!/)"
   ]
  },
  {
   "cell_type": "code",
   "execution_count": 1,
   "id": "4cb4cd13",
   "metadata": {},
   "outputs": [],
   "source": [
    "import ee\n",
    "ee.Authenticate()\n",
    "ee.Initialize()"
   ]
  },
  {
   "cell_type": "markdown",
   "id": "980b0418",
   "metadata": {},
   "source": [
    "# Get the training data\n",
    "\n",
    "The training data in this sample comes from two places: \n",
    "\n",
    "1. The satellite images will be extracted from *Earth Engine*.\n",
    "\n",
    "2. The labels are provided in a *csv file* that indicates whether a power plant is turned on or off at a particular timestamp. \n",
    "\n",
    "For each row in the CSV file, we need to extract the corresponding Sentinel image taken at that specific latitude/longitude and timestamp. We'll export this image data, along with the corresponding label (on/off), to Cloud Storage.\n"
   ]
  },
  {
   "cell_type": "code",
   "execution_count": 3,
   "id": "9b0dd3fd",
   "metadata": {},
   "outputs": [],
   "source": [
    "# Import libraries\n",
    "\n",
    "import pandas as pd\n",
    "import numpy as np\n",
    "from pprint import pprint"
   ]
  },
  {
   "cell_type": "code",
   "execution_count": 109,
   "id": "94f60a82",
   "metadata": {},
   "outputs": [],
   "source": [
    "# Define constants\n",
    "\n",
    "BANDS = ['B1', 'B2', 'B3', 'B4', 'B5', 'B6', 'B7', 'B8', 'B8A', 'B9', 'B10', 'B11', 'B12']\n",
    "LABEL = 'label'"
   ]
  },
  {
   "cell_type": "markdown",
   "id": "beba81d1",
   "metadata": {},
   "source": [
    "### Import labels\n",
    "\n",
    "First, we import the csv file that contains the labels."
   ]
  },
  {
   "cell_type": "code",
   "execution_count": 584,
   "id": "42190dcf",
   "metadata": {},
   "outputs": [],
   "source": [
    "labels_dataframe = pd.read_csv('labeled_geospatial_data.csv')"
   ]
  },
  {
   "cell_type": "markdown",
   "id": "1cdb7d16-a9c7-4be8-b403-ccb10dcad261",
   "metadata": {},
   "source": [
    "Each row in this dataframe represents a power plant at a particular timestamp. \n",
    "\n",
    "The label column indicates whether or not the power plant was turned **on (1)** or **off (0)** at that timestamp."
   ]
  },
  {
   "cell_type": "code",
   "execution_count": 585,
   "id": "3a0e80f5-23ce-46df-b81d-742068d46181",
   "metadata": {},
   "outputs": [
    {
     "data": {
      "text/html": [
       "<div>\n",
       "<style scoped>\n",
       "    .dataframe tbody tr th:only-of-type {\n",
       "        vertical-align: middle;\n",
       "    }\n",
       "\n",
       "    .dataframe tbody tr th {\n",
       "        vertical-align: top;\n",
       "    }\n",
       "\n",
       "    .dataframe thead th {\n",
       "        text-align: right;\n",
       "    }\n",
       "</style>\n",
       "<table border=\"1\" class=\"dataframe\">\n",
       "  <thead>\n",
       "    <tr style=\"text-align: right;\">\n",
       "      <th></th>\n",
       "      <th>timestamp</th>\n",
       "      <th>lat</th>\n",
       "      <th>lon</th>\n",
       "      <th>label</th>\n",
       "    </tr>\n",
       "  </thead>\n",
       "  <tbody>\n",
       "    <tr>\n",
       "      <th>0</th>\n",
       "      <td>2020-07-03 16:32:41.397000+00:00</td>\n",
       "      <td>39.11613</td>\n",
       "      <td>-84.80529</td>\n",
       "      <td>1</td>\n",
       "    </tr>\n",
       "    <tr>\n",
       "      <th>1</th>\n",
       "      <td>2018-06-09 16:25:19.280000+00:00</td>\n",
       "      <td>39.11613</td>\n",
       "      <td>-84.80529</td>\n",
       "      <td>1</td>\n",
       "    </tr>\n",
       "    <tr>\n",
       "      <th>2</th>\n",
       "      <td>2017-11-24 16:36:14.460000+00:00</td>\n",
       "      <td>39.11613</td>\n",
       "      <td>-84.80529</td>\n",
       "      <td>0</td>\n",
       "    </tr>\n",
       "    <tr>\n",
       "      <th>3</th>\n",
       "      <td>2019-11-01 16:32:42.327000+00:00</td>\n",
       "      <td>39.11613</td>\n",
       "      <td>-84.80529</td>\n",
       "      <td>0</td>\n",
       "    </tr>\n",
       "    <tr>\n",
       "      <th>4</th>\n",
       "      <td>2020-05-09 16:32:43.614000+00:00</td>\n",
       "      <td>39.11613</td>\n",
       "      <td>-84.80529</td>\n",
       "      <td>1</td>\n",
       "    </tr>\n",
       "  </tbody>\n",
       "</table>\n",
       "</div>"
      ],
      "text/plain": [
       "                          timestamp       lat       lon  label\n",
       "0  2020-07-03 16:32:41.397000+00:00  39.11613 -84.80529      1\n",
       "1  2018-06-09 16:25:19.280000+00:00  39.11613 -84.80529      1\n",
       "2  2017-11-24 16:36:14.460000+00:00  39.11613 -84.80529      0\n",
       "3  2019-11-01 16:32:42.327000+00:00  39.11613 -84.80529      0\n",
       "4  2020-05-09 16:32:43.614000+00:00  39.11613 -84.80529      1"
      ]
     },
     "execution_count": 585,
     "metadata": {},
     "output_type": "execute_result"
    }
   ],
   "source": [
    "labels_dataframe.head()"
   ]
  },
  {
   "cell_type": "markdown",
   "id": "3aa51b23",
   "metadata": {},
   "source": [
    "Next, we import this data into an Earth Engine [`Feature Collection`](https://developers.google.com/earth-engine/apidocs/ee-featurecollection).\n",
    "\n",
    "In Earth Engine, a [`Feature`](https://developers.google.com/earth-engine/guides/features) is an object with a _geometry property_ storing a [`Geometry`](https://developers.google.com/earth-engine/guides/geometries) object, and a _properties property_ storing a dictionary of other properties. Groups of related `Features` can be combined into a `FeatureCollection` to enable additional operations on the entire set such as filtering, sorting, and rendering."
   ]
  },
  {
   "cell_type": "code",
   "execution_count": 659,
   "id": "3a8b42dd",
   "metadata": {},
   "outputs": [],
   "source": [
    "def create_label_fc(path):\n",
    "  '''Creates a FeatureCollection from the label dataframe.'''\n",
    "\n",
    "  labels_dataframe = pd.read_csv(path)\n",
    "  num_examples = dataframe.shape[0]\n",
    "  data_dict = dataframe.to_dict()\n",
    "  feats = []\n",
    "  properties = ['timestamp', 'label']\n",
    "  for idx in np.arange(num_examples):\n",
    "    feat_dict = {}\n",
    "    geometry = ee.Geometry.Point([data_dict['lon'][idx], data_dict['lat'][idx]])  \n",
    "    for feature in properties:\n",
    "      feat_dict[feature] = data_dict[feature][idx]\n",
    "    feat = ee.Feature(geometry, feat_dict)\n",
    "    feats.append(feat)\n",
    "  return ee.FeatureCollection(feats)"
   ]
  },
  {
   "cell_type": "code",
   "execution_count": 660,
   "id": "6eb9f78d",
   "metadata": {},
   "outputs": [],
   "source": [
    "label_fc = create_label_fc('labeled_geospatial_data.csv')"
   ]
  },
  {
   "cell_type": "markdown",
   "id": "cb421ba4-c9b1-4d81-b543-656766fac47c",
   "metadata": {},
   "source": [
    "Let's take a look at the first element in the `FeatureCollection`. You can see that this is equivalent to the first element in our dataframe, but just in a different format."
   ]
  },
  {
   "cell_type": "code",
   "execution_count": 662,
   "id": "eeb5b6c2-4f53-481b-96d1-07a39415988a",
   "metadata": {},
   "outputs": [
    {
     "name": "stdout",
     "output_type": "stream",
     "text": [
      "{'geometry': {'coordinates': [-84.80529, 39.11613], 'type': 'Point'},\n",
      " 'id': '0',\n",
      " 'properties': {'label': 1, 'timestamp': '2020-07-03 16:32:41.397000+00:00'},\n",
      " 'type': 'Feature'}\n"
     ]
    }
   ],
   "source": [
    "pprint(label_fc.first().getInfo())"
   ]
  },
  {
   "cell_type": "markdown",
   "id": "1cc8b4a2",
   "metadata": {},
   "source": [
    "Next, we define a preprocessing function that will reformat the timestamp into two new properties: `start` and `end`."
   ]
  },
  {
   "cell_type": "code",
   "execution_count": 663,
   "id": "264aea7a",
   "metadata": {},
   "outputs": [],
   "source": [
    "def format_date(feature):\n",
    "  '''Creates start date and end date properties.'''\n",
    "    \n",
    "  # Extract start and end dates\n",
    "  timestamp = ee.String(feature.get('timestamp')).split(' ').get(0)\n",
    "  year =  ee.Number.parse(ee.String(timestamp).split('-').get(0))\n",
    "  month = ee.Number.parse(ee.String(timestamp).split('-').get(1))\n",
    "  day =   ee.Number.parse(ee.String(timestamp).split('-').get(2))\n",
    "  start = ee.Date.fromYMD(year, month, day)\n",
    "  end = start.advance(1, 'day')\n",
    "\n",
    "  # Create new feature\n",
    "  feature = feature.set({'start': start, 'end': end})\n",
    "\n",
    "  return feature"
   ]
  },
  {
   "cell_type": "markdown",
   "id": "61a35408-f7f1-46bd-a73f-db4a48538313",
   "metadata": {},
   "source": [
    "We map this preprocessing function across our `FeatureCollection`."
   ]
  },
  {
   "cell_type": "code",
   "execution_count": 664,
   "id": "3132cdda",
   "metadata": {},
   "outputs": [],
   "source": [
    "label_fc = label_fc.map(format_date)"
   ]
  },
  {
   "cell_type": "markdown",
   "id": "f4524d75",
   "metadata": {},
   "source": [
    "Let's examine the first feature in this collection to see what it looks like after the map operation. \n",
    "\n",
    "You can see that each feature has a `Geometry`, which is a specific latitude and longitude, as well as a set of properties:\n",
    "\n",
    "* `label` indicates whether the power plant is on (1) or off (0)\n",
    "* `start` is the datetime for when this observation was made\n",
    "* `end` is a datetime one day after `start`\n",
    "* `timestamp` is the original timestamp pulled from the CSV file\n",
    "\n",
    "The `label` property is what we want our model to predict. And the `start` and `end` timestamps will be helpful when we extract the corresponding Sentinel images because each label is for a specific point in time."
   ]
  },
  {
   "cell_type": "code",
   "execution_count": 665,
   "id": "01cc0ad2",
   "metadata": {},
   "outputs": [
    {
     "name": "stdout",
     "output_type": "stream",
     "text": [
      "{'geometry': {'coordinates': [-84.80529, 39.11613], 'type': 'Point'},\n",
      " 'id': '0',\n",
      " 'properties': {'end': {'type': 'Date', 'value': 1593820800000},\n",
      "                'label': 1,\n",
      "                'start': {'type': 'Date', 'value': 1593734400000},\n",
      "                'timestamp': '2020-07-03 16:32:41.397000+00:00'},\n",
      " 'type': 'Feature'}\n"
     ]
    }
   ],
   "source": [
    "pprint(label_fc.first().getInfo())"
   ]
  },
  {
   "cell_type": "markdown",
   "id": "96967303",
   "metadata": {},
   "source": [
    "### Merge labels + Sentinel image data"
   ]
  },
  {
   "cell_type": "markdown",
   "id": "fa236af4",
   "metadata": {},
   "source": [
    "In Earth Engine, an [`ImageCollection`](https://developers.google.com/earth-engine/guides/ic_creating) is a stack or sequence of images. An [`Image`](https://developers.google.com/earth-engine/guides/image_overview) is composed of one or more bands and each band has its own name, data type, scale, mask and projection. The [`Sentinel-2`](https://developers.google.com/earth-engine/guides/ic_creating) dataset is represented as an `ImageCollection`, where each image in the collection is of a specific geographic location at a particular time.\n",
    "\n",
    "In the cell below, we write a function to extract the Sentinel image taken at the specific latitude/longitude and timestamp for each `Feature` in our `FeatureCollection`. \n",
    "\n",
    "To do this, we first filter the Sentinel-2 `ImageCollection` at the start/end dates for a particular `Feature`.\n",
    "\n",
    "Then, using the [`neighorboodToArray`](https://developers.google.com/earth-engine/api_docs#eeimageneighborhoodtoarray) method we create a new `FeatureCollection` that contains the satellite data for each band at the latitude and longitude of interest as well as a 16 pixel padding around that point.\n",
    "\n",
    "In the image below you can think of the purple box representing the lat/lon where the power plant is located. And around this pixel, we add the padding.\n",
    "\n",
    "![training](img/training.png)"
   ]
  },
  {
   "cell_type": "code",
   "execution_count": 592,
   "id": "a93f1947",
   "metadata": {},
   "outputs": [],
   "source": [
    "def get_neighboring_patch(feature):\n",
    "  '''Gets image pixel values for patch.'''\n",
    "    \n",
    "  # filter ImageCollection at start/end dates.   \n",
    "  image = ee.ImageCollection('COPERNICUS/S2').filterDate(\n",
    "      feature.get('start'), feature.get('end')).select(BANDS).median()\n",
    "  \n",
    "  # extract pixel values at the lat/lon with a 16x16 padding\n",
    "  return ee.FeatureCollection([\n",
    "      image.neighborhoodToArray(ee.Kernel.square(16)).sampleRegions(\n",
    "          collection=ee.FeatureCollection([feature]), scale=10).first()\n",
    "  ])"
   ]
  },
  {
   "cell_type": "markdown",
   "id": "4d7a95a7",
   "metadata": {},
   "source": [
    "We map this function across the `FeatureCollection` and flatten it so we have a single `FeatureCollection`."
   ]
  },
  {
   "cell_type": "code",
   "execution_count": 593,
   "id": "6d85ec4a",
   "metadata": {},
   "outputs": [],
   "source": [
    "data = label_fc.map(get_neighboring_patch).flatten()"
   ]
  },
  {
   "cell_type": "markdown",
   "id": "21267b05-38cc-4f14-ab09-197baef26713",
   "metadata": {},
   "source": [
    "Let's look at the properties for the first element in this new `FeatureCollection`. You can see that it still contains the `start`, `end`, `label`, and `timestamp` properties, but with  has 13 additional properies, one for each spectral band."
   ]
  },
  {
   "cell_type": "code",
   "execution_count": 594,
   "id": "69933ee9-8aa0-49f7-ad33-c0b17db329bc",
   "metadata": {},
   "outputs": [
    {
     "data": {
      "text/plain": [
       "['system:index',\n",
       " 'start',\n",
       " 'end',\n",
       " 'label',\n",
       " 'timestamp',\n",
       " 'B10',\n",
       " 'B11',\n",
       " 'B12',\n",
       " 'B8A',\n",
       " 'B1',\n",
       " 'B2',\n",
       " 'B3',\n",
       " 'B4',\n",
       " 'B5',\n",
       " 'B6',\n",
       " 'B7',\n",
       " 'B8',\n",
       " 'B9']"
      ]
     },
     "execution_count": 594,
     "metadata": {},
     "output_type": "execute_result"
    }
   ],
   "source": [
    "data.first().propertyNames().getInfo()"
   ]
  },
  {
   "cell_type": "markdown",
   "id": "8c79c514-ad63-4b85-8da2-ab8967fe8d5a",
   "metadata": {},
   "source": [
    "The data contained in each band property is an array of shape 33x33.\n",
    "\n",
    "For example, here is the data for band B1 in the first element of our `FeatureCollection` expressed as a numpy array."
   ]
  },
  {
   "cell_type": "code",
   "execution_count": 595,
   "id": "a70c127e-7c45-4eab-914d-17a0c3a9e42c",
   "metadata": {},
   "outputs": [
    {
     "name": "stdout",
     "output_type": "stream",
     "text": [
      "[[1803 1803 1803 ... 1797 1797 1797]\n",
      " [1803 1803 1803 ... 1797 1797 1797]\n",
      " [1803 1803 1803 ... 1797 1797 1797]\n",
      " ...\n",
      " [1519 1519 1519 ... 1560 1560 1560]\n",
      " [1519 1519 1519 ... 1560 1560 1560]\n",
      " [1519 1519 1519 ... 1560 1560 1560]]\n",
      "shape: (33, 33)\n"
     ]
    }
   ],
   "source": [
    "example_feature = np.array(data.first().get('B1').getInfo())\n",
    "print(example_feature)\n",
    "print('shape: ' + str(example_feature.shape))"
   ]
  },
  {
   "cell_type": "markdown",
   "id": "2ab1318d",
   "metadata": {},
   "source": [
    "### Create train/validation splits"
   ]
  },
  {
   "cell_type": "markdown",
   "id": "86cca925",
   "metadata": {},
   "source": [
    "Before we can train an ML model, we need to split this data into training and validation datasets. We can easily do this by adding a random column to our `FeatureCollection` and then filtering the collection on that column."
   ]
  },
  {
   "cell_type": "code",
   "execution_count": 623,
   "id": "6b4483b6",
   "metadata": {},
   "outputs": [],
   "source": [
    "data = data.randomColumn()"
   ]
  },
  {
   "cell_type": "code",
   "execution_count": 296,
   "id": "4f2b67ae",
   "metadata": {},
   "outputs": [],
   "source": [
    "# 70% of data for training and 30% for validation\n",
    "\n",
    "training = data.filter(ee.Filter.lt('random', 0.7))\n",
    "validation = data.filter(ee.Filter.gte('random', 0.7))"
   ]
  },
  {
   "cell_type": "markdown",
   "id": "c02607c8",
   "metadata": {},
   "source": [
    "### Export data"
   ]
  },
  {
   "cell_type": "markdown",
   "id": "10c87eb9",
   "metadata": {},
   "source": [
    "Lastly, we'll export the data to a Cloud Storage bucket. We'll export the data as [TFRecords](https://www.tensorflow.org/tutorials/load_data/tfrecord) and only export the bands and label properties.\n",
    "\n",
    "Later when we run the training job, we'll parse these TFRecords and feed them to the model."
   ]
  },
  {
   "cell_type": "code",
   "execution_count": 602,
   "id": "53f2d867",
   "metadata": {},
   "outputs": [],
   "source": [
    "# Export data\n",
    "\n",
    "training_task = ee.batch.Export.table.toCloudStorage(\n",
    "  collection=training,\n",
    "  description=\"Training image export\",\n",
    "  bucket=bucket,\n",
    "  fileNamePrefix=\"geospatial_training\",\n",
    "  selectors= BANDS + [LABEL],\n",
    "  fileFormat='TFRecord')\n",
    "\n",
    "training_task.start()\n",
    "\n",
    "validation_task = ee.batch.Export.table.toCloudStorage(\n",
    "  collection=validation,\n",
    "  description=\"Validation image export\",\n",
    "  bucket=bucket,\n",
    "  fileNamePrefix=\"geospatial_validation\",\n",
    "  selectors= BANDS + [LABEL],\n",
    "  fileFormat='TFRecord')\n",
    "\n",
    "validation_task.start()"
   ]
  },
  {
   "cell_type": "markdown",
   "id": "dadeab16",
   "metadata": {},
   "source": [
    "This export will take around 35 minutes. You can monitor the progress with the following command:"
   ]
  },
  {
   "cell_type": "code",
   "execution_count": 4,
   "id": "4d111251",
   "metadata": {},
   "outputs": [],
   "source": [
    "pprint(ee.batch.Task.list())"
   ]
  },
  {
   "cell_type": "markdown",
   "id": "02b1b9dd",
   "metadata": {},
   "source": [
    "# Run custom training job\n",
    "\n",
    "Once the export jobs have finished, we're ready to use that data to train a model on Vertex AI Training.\n",
    "\n",
    "The complete training code can be found in the `task.py` file.\n",
    "\n",
    "To run our custom training job on Vertex AI Training, we'll use the [pre-built containers](https://cloud.google.com/vertex-ai/docs/training/pre-built-containers) provided by Vertex AI to run our training script.\n"
   ]
  },
  {
   "cell_type": "code",
   "execution_count": null,
   "id": "a4b99054-b843-485e-9cf0-c9f8ae739d1c",
   "metadata": {},
   "outputs": [],
   "source": [
    "job = aiplatform.CustomTrainingJob(\n",
    "    display_name=\"geospatial_model_training\",\n",
    "    script_path=\"task.py\",\n",
    "    container_uri=\"us-docker.pkg.dev/vertex-ai/training/tf-cpu.2-5:latest\")"
   ]
  },
  {
   "cell_type": "markdown",
   "id": "a4baff79-0347-4452-afaa-9c042472f837",
   "metadata": {},
   "source": [
    "The job will take around 10 minutes to run."
   ]
  },
  {
   "cell_type": "code",
   "execution_count": null,
   "id": "5893ce1d-cdbe-43fa-98cc-221a7a2530d3",
   "metadata": {},
   "outputs": [],
   "source": [
    "model = job.run(args=[f'--bucket={bucket}'])"
   ]
  },
  {
   "cell_type": "markdown",
   "id": "c75499ed",
   "metadata": {},
   "source": [
    "# Deploy to Cloud Run"
   ]
  },
  {
   "cell_type": "markdown",
   "id": "86cbab39",
   "metadata": {},
   "source": [
    "Next, we use\n",
    "[Cloud Run](https://cloud.google.com/run)\n",
    "to deploy a web service that exposes a\n",
    "[REST API](https://en.wikipedia.org/wiki/Representational_state_transfer) to\n",
    "get predictions from our trained model.\n",
    "\n",
    "To run the web service, we configure Cloud Run to launch\n",
    "[`gunicorn`](https://gunicorn.org)\n",
    "on the container image we built.\n",
    "\n",
    "We also provide environment variables with the Google Cloud project ID, a Cloud Storage path, a Compute Engine region, as well as the container image itself.\n",
    "These are the Google Cloud resources we want the web service to use when launching new jobs or creating new resources.\n",
    "\n",
    "Since calls to this web service could launch potentially expensive jobs in our project, we configure it to _only_ accept authenticated calls."
   ]
  },
  {
   "cell_type": "markdown",
   "id": "a0e28bff-0804-4093-acf2-739700b24c5f",
   "metadata": {},
   "source": [
    "## Build container\n",
    "\n",
    "We use Cloud Build to build the container image. After the image is built, it is available in Container Registry."
   ]
  },
  {
   "cell_type": "code",
   "execution_count": null,
   "id": "c95ba749-b325-4700-ace9-c1c5af3996aa",
   "metadata": {},
   "outputs": [],
   "source": [
    "# Set the Container Registry path for the sample container image.\n",
    "app_container_image = f\"gcr.io/{project}/geospatial-classification/app\""
   ]
  },
  {
   "cell_type": "code",
   "execution_count": null,
   "id": "56c8774f-b90d-47d8-8453-f01e05594751",
   "metadata": {},
   "outputs": [],
   "source": [
    "# Build and push the container image.\n",
    "# https://cloud.google.com/sdk/gcloud/reference/builds/submit\n",
    "!gcloud builds submit serving_app \\\n",
    "  --tag=\"{app_container_image}\" \\\n",
    "  --machine-type \"e2-highcpu-8\""
   ]
  },
  {
   "cell_type": "markdown",
   "id": "9978056f-4467-4dda-85a5-84655ade9a11",
   "metadata": {},
   "source": [
    "## Deploy app"
   ]
  },
  {
   "cell_type": "code",
   "execution_count": null,
   "id": "13c299f1-e108-46bd-8b12-06af56a88444",
   "metadata": {},
   "outputs": [],
   "source": [
    "# Deploy the web service to Cloud Run.\n",
    "# https://cloud.google.com/sdk/gcloud/reference/run/deploy\n",
    "!gcloud run deploy \"geospatial-service\" \\\n",
    "  --image=\"{app_container_image}\" \\\n",
    "  --command=\"gunicorn\" \\\n",
    "  --args=\"--threads=8,--timeout=0,main:app\" \\\n",
    "  --region=\"us-central1\" \\\n",
    "  --memory=\"1G\" \\\n",
    "  --no-allow-unauthenticated"
   ]
  },
  {
   "cell_type": "markdown",
   "id": "5a32d4bf-4345-43f7-9371-aa151ad4f521",
   "metadata": {},
   "source": [
    "Now we need the web service URL to make calls to the REST API we just exposed. We can use `gcloud run services describe` to get the web service URL.\n",
    "\n",
    "Since we only accept authorized calls in our web service, we also need to authenticate each call.\n",
    "`gcloud` is already authenticated, so we can use `gcloud auth print-identity-token` to get quick access.\n",
    "\n",
    "> ℹ️ For more information on how to do authenticated calls in Cloud Run, see the\n",
    "> [Authentication overview](https://cloud.google.com/run/docs/authenticating/overview) page."
   ]
  },
  {
   "cell_type": "code",
   "execution_count": 5,
   "id": "53f5e5e3-d5dd-4cb7-bb38-5b2e3b439ecd",
   "metadata": {},
   "outputs": [],
   "source": [
    "import subprocess\n",
    "\n",
    "# Get the web service URL.\n",
    "#   https://cloud.google.com/sdk/gcloud/reference/run/services/describe\n",
    "service_url = subprocess.run(\n",
    "    [ 'gcloud', 'run', 'services', 'describe', 'geospatial-service',\n",
    "        f'--region={region}',\n",
    "        f'--format=get(status.url)',\n",
    "    ],\n",
    "    capture_output=True,\n",
    ").stdout.decode('utf-8').strip()\n",
    "print(f\"service_url: {service_url}\")\n",
    "\n",
    "# Get an identity token for authorized calls to our web service.\n",
    "#   https://cloud.google.com/sdk/gcloud/reference/auth/print-identity-token\n",
    "identity_token = subprocess.run(\n",
    "    ['gcloud', 'auth', 'print-identity-token'],\n",
    "    capture_output=True,\n",
    ").stdout.decode('utf-8').strip()\n",
    "print(f\"identity_token: {identity_token}\")"
   ]
  },
  {
   "cell_type": "markdown",
   "id": "aa2c4dfe-b55d-4f80-a7eb-9ee86542ce59",
   "metadata": {},
   "source": [
    "Finally, we can test that everything is working.\n",
    "\n",
    "We included a `ping` method in our web service just to make sure everything is working as expected.\n",
    "It simply returns back the arguments we passed to the call, as well as a response saying that the call was successful.\n",
    "\n",
    "> ℹ️ This is a convenient way to make sure the web service is reachable, the authentication is working as expected, and the request arguments are passed correctly.\n",
    "\n",
    "We can use Python's\n",
    "[`requests`](https://docs.python-requests.org)\n",
    "library.\n",
    "The web service was built to always accept [JSON](https://www.w3schools.com/whatis/whatis_json.asp)-encoded requests, and returns JSON-encoded responses.\n",
    "\n",
    "For a request to be successful, it must:\n",
    "\n",
    "* Be an [`HTTP POST`](https://developer.mozilla.org/en-US/docs/Web/HTTP/Methods/POST) request\n",
    "* Contain the following headers:\n",
    "  * `Authorization: Bearer IDENTITY_TOKEN`\n",
    "  * `Content-Type: application/json`\n",
    "* The data must be valid JSON, if no arguments are needed we can pass `{}` as an empty object.\n",
    "\n",
    "For ease of use, `requests.post` has a\n",
    "[`json` parameter](https://docs.python-requests.org/en/master/user/quickstart/#more-complicated-post-requests)\n",
    "that automatically attaches the header `Content-Type: application/json` and encodes our data into a JSON string."
   ]
  },
  {
   "cell_type": "code",
   "execution_count": 557,
   "id": "1395bd18-e6eb-47cf-b0ca-7d7d04cce8f0",
   "metadata": {},
   "outputs": [],
   "source": [
    "import requests"
   ]
  },
  {
   "cell_type": "code",
   "execution_count": 558,
   "id": "9025db3b-d409-46cf-9ce2-6f0209dfbea3",
   "metadata": {},
   "outputs": [
    {
     "data": {
      "text/plain": [
       "{'args': 'Hello world!', 'response': 'Your request was successful! 🎉'}"
      ]
     },
     "execution_count": 558,
     "metadata": {},
     "output_type": "execute_result"
    }
   ],
   "source": [
    "requests.post(\n",
    "    url=f'{service_url}/ping',\n",
    "    headers={'Authorization': f'Bearer {identity_token}'},\n",
    "    json={'x': 42, 'message': 'Hello world!'},\n",
    ").json()"
   ]
  },
  {
   "cell_type": "markdown",
   "id": "45d64a22-887a-4469-9ba3-668ec23f8667",
   "metadata": {},
   "source": [
    "# Get Predictions"
   ]
  },
  {
   "cell_type": "markdown",
   "id": "462b7bf1-cf07-4a93-9cf3-0f9f31c13fa9",
   "metadata": {},
   "source": [
    "Now that we know our app is up and running, we can use it to make predictions.\n",
    "\n",
    "Let's start by making a prediction for a particular power plant. To do this we will need to extract the Sentinel data from Earth Engine and send it in the body of the post requst to the prediction service.\n",
    "\n",
    "We'll start with a plant located at the coordinates -84.80529, 39.11613, and then extract the satellite data from October 2021."
   ]
  },
  {
   "cell_type": "code",
   "execution_count": 559,
   "id": "a7f6b8c2-cab3-4030-8528-9afe644a800d",
   "metadata": {},
   "outputs": [],
   "source": [
    "import json"
   ]
  },
  {
   "cell_type": "code",
   "execution_count": 560,
   "id": "570f7e8f-6f68-4433-aa29-ce0e3e4cd604",
   "metadata": {},
   "outputs": [],
   "source": [
    "plant_location = ee.Feature(ee.Geometry.Point([-84.80529, 39.11613]))"
   ]
  },
  {
   "cell_type": "code",
   "execution_count": 561,
   "id": "9e477289-398c-4bcb-ab23-aee65ac92388",
   "metadata": {},
   "outputs": [],
   "source": [
    "# Extract image data\n",
    "\n",
    "def get_prediction_data(feature, start, end):\n",
    "  '''Extracts Sentinel image as json at specific lat/lon and timestamp.'''\n",
    "\n",
    "  image = ee.ImageCollection('COPERNICUS/S2').filterDate(start, end).select(BANDS).mosaic()\n",
    "\n",
    "  fc = ee.FeatureCollection([\n",
    "        image.neighborhoodToArray(ee.Kernel.square(16)).sampleRegions(\n",
    "            collection=ee.FeatureCollection([feature]), scale=10).first()\n",
    "    ])\n",
    "  \n",
    "  # download FeatureCollection as JSON\n",
    "  url = fc.getDownloadURL('geojson')\n",
    "  bytes = requests.get(url).content\n",
    "  values=bytes.decode(\"utf-8\")\n",
    "  json_values = json.loads(values)\n",
    "  return json_values['features'][0]['properties']"
   ]
  },
  {
   "cell_type": "code",
   "execution_count": 562,
   "id": "86d53ea1-b09e-4afb-8d04-60b73ec59c7c",
   "metadata": {},
   "outputs": [],
   "source": [
    "prediction_data = get_prediction_data(plant_location, '2021-10-01', '2021-10-31')"
   ]
  },
  {
   "cell_type": "markdown",
   "id": "9d93aaa8",
   "metadata": {},
   "source": [
    "The prediction service expects the data was want a prediction for as well as the bucket where our saved model assets are stored."
   ]
  },
  {
   "cell_type": "code",
   "execution_count": 563,
   "id": "5c01631e-5607-45c8-a42e-354fb38a87e1",
   "metadata": {},
   "outputs": [],
   "source": [
    "requests.post(\n",
    "    url=f'{service_url}/predict',\n",
    "    headers={'Authorization': f'Bearer {identity_token}'},\n",
    "    json={'data': prediction_data, 'bucket': bucket},\n",
    ").json()"
   ]
  },
  {
   "cell_type": "markdown",
   "id": "2222aaf9",
   "metadata": {},
   "source": [
    "# Visualize Results"
   ]
  },
  {
   "cell_type": "markdown",
   "id": "e70fd0a5-a1ae-4cac-91cc-342809d9fb3b",
   "metadata": {},
   "source": [
    "Let's visualize the results of a power plant in Spain. First, we get predictions for the four towers at this power plant."
   ]
  },
  {
   "cell_type": "code",
   "execution_count": 533,
   "id": "ac680e7f-3598-422a-af5e-bb666425dbd0",
   "metadata": {},
   "outputs": [],
   "source": [
    "locations = [ee.Feature(ee.Geometry.Point([-7.86444, 43.43717])),\n",
    "             ee.Feature(ee.Geometry.Point([-7.86376, 43.43827])),\n",
    "             ee.Feature(ee.Geometry.Point([-7.85755, 43.44075])),\n",
    "             ee.Feature(ee.Geometry.Point([-7.85587, 43.44114])),]"
   ]
  },
  {
   "cell_type": "code",
   "execution_count": 534,
   "id": "9fc56972-47bb-4b37-b447-400cbea5e90a",
   "metadata": {},
   "outputs": [],
   "source": [
    "plant_predictions = []\n",
    "for location in locations:\n",
    "    prediction_data = get_prediction_data(location, '2021-10-01', '2021-10-31')\n",
    "    result = requests.post(\n",
    "        url=f'{service_url}/predict',\n",
    "        headers={'Authorization': f'Bearer {identity_token}'},\n",
    "        json={'data': prediction_data, 'bucket': bucket},).json()\n",
    "    preds.append(result['predictions']['predictions'][0][0][0][0])"
   ]
  },
  {
   "cell_type": "markdown",
   "id": "be593a27-71b1-4ea1-8c2e-100a0a82ccdd",
   "metadata": {},
   "source": [
    "Next, we can plot these points on a map. Red means our model predicts that the towers are on, and blue means that it predicts the towers are off."
   ]
  },
  {
   "cell_type": "code",
   "execution_count": 522,
   "id": "98651a74",
   "metadata": {},
   "outputs": [],
   "source": [
    "import folium\n",
    "import folium.plugins as folium_plugins\n",
    "import branca.colormap as cm"
   ]
  },
  {
   "cell_type": "code",
   "execution_count": 523,
   "id": "4a0b6bc2-e187-4d0c-90de-636f47db6b20",
   "metadata": {},
   "outputs": [],
   "source": [
    "lon = [-7.86444, -7.86376, -7.85755, -7.85587]\n",
    "lat = [43.43717, 43.43827, 43.44075, 43.44114]"
   ]
  },
  {
   "cell_type": "code",
   "execution_count": 539,
   "id": "15ba038b-49c9-40bf-8d87-af7d253d270d",
   "metadata": {},
   "outputs": [
    {
     "data": {
      "text/html": [
       "<div style=\"width:100%;\"><div style=\"position:relative;width:100%;height:0;padding-bottom:60%;\"><span style=\"color:#565656\">Make this Notebook Trusted to load map: File -> Trust Notebook</span><iframe src=\"about:blank\" style=\"position:absolute;width:100%;height:100%;left:0;top:0;border:none !important;\" data-html=%3C%21DOCTYPE%20html%3E%0A%3Chead%3E%20%20%20%20%0A%20%20%20%20%3Cmeta%20http-equiv%3D%22content-type%22%20content%3D%22text/html%3B%20charset%3DUTF-8%22%20/%3E%0A%20%20%20%20%0A%20%20%20%20%20%20%20%20%3Cscript%3E%0A%20%20%20%20%20%20%20%20%20%20%20%20L_NO_TOUCH%20%3D%20false%3B%0A%20%20%20%20%20%20%20%20%20%20%20%20L_DISABLE_3D%20%3D%20false%3B%0A%20%20%20%20%20%20%20%20%3C/script%3E%0A%20%20%20%20%0A%20%20%20%20%3Cstyle%3Ehtml%2C%20body%20%7Bwidth%3A%20100%25%3Bheight%3A%20100%25%3Bmargin%3A%200%3Bpadding%3A%200%3B%7D%3C/style%3E%0A%20%20%20%20%3Cstyle%3E%23map%20%7Bposition%3Aabsolute%3Btop%3A0%3Bbottom%3A0%3Bright%3A0%3Bleft%3A0%3B%7D%3C/style%3E%0A%20%20%20%20%3Cscript%20src%3D%22https%3A//cdn.jsdelivr.net/npm/leaflet%401.6.0/dist/leaflet.js%22%3E%3C/script%3E%0A%20%20%20%20%3Cscript%20src%3D%22https%3A//code.jquery.com/jquery-1.12.4.min.js%22%3E%3C/script%3E%0A%20%20%20%20%3Cscript%20src%3D%22https%3A//maxcdn.bootstrapcdn.com/bootstrap/3.2.0/js/bootstrap.min.js%22%3E%3C/script%3E%0A%20%20%20%20%3Cscript%20src%3D%22https%3A//cdnjs.cloudflare.com/ajax/libs/Leaflet.awesome-markers/2.0.2/leaflet.awesome-markers.js%22%3E%3C/script%3E%0A%20%20%20%20%3Clink%20rel%3D%22stylesheet%22%20href%3D%22https%3A//cdn.jsdelivr.net/npm/leaflet%401.6.0/dist/leaflet.css%22/%3E%0A%20%20%20%20%3Clink%20rel%3D%22stylesheet%22%20href%3D%22https%3A//maxcdn.bootstrapcdn.com/bootstrap/3.2.0/css/bootstrap.min.css%22/%3E%0A%20%20%20%20%3Clink%20rel%3D%22stylesheet%22%20href%3D%22https%3A//maxcdn.bootstrapcdn.com/bootstrap/3.2.0/css/bootstrap-theme.min.css%22/%3E%0A%20%20%20%20%3Clink%20rel%3D%22stylesheet%22%20href%3D%22https%3A//maxcdn.bootstrapcdn.com/font-awesome/4.6.3/css/font-awesome.min.css%22/%3E%0A%20%20%20%20%3Clink%20rel%3D%22stylesheet%22%20href%3D%22https%3A//cdnjs.cloudflare.com/ajax/libs/Leaflet.awesome-markers/2.0.2/leaflet.awesome-markers.css%22/%3E%0A%20%20%20%20%3Clink%20rel%3D%22stylesheet%22%20href%3D%22https%3A//cdn.jsdelivr.net/gh/python-visualization/folium/folium/templates/leaflet.awesome.rotate.min.css%22/%3E%0A%20%20%20%20%0A%20%20%20%20%20%20%20%20%20%20%20%20%3Cmeta%20name%3D%22viewport%22%20content%3D%22width%3Ddevice-width%2C%0A%20%20%20%20%20%20%20%20%20%20%20%20%20%20%20%20initial-scale%3D1.0%2C%20maximum-scale%3D1.0%2C%20user-scalable%3Dno%22%20/%3E%0A%20%20%20%20%20%20%20%20%20%20%20%20%3Cstyle%3E%0A%20%20%20%20%20%20%20%20%20%20%20%20%20%20%20%20%23map_dafdb268ad50413b93ca7d6a32fe1738%20%7B%0A%20%20%20%20%20%20%20%20%20%20%20%20%20%20%20%20%20%20%20%20position%3A%20relative%3B%0A%20%20%20%20%20%20%20%20%20%20%20%20%20%20%20%20%20%20%20%20width%3A%20100.0%25%3B%0A%20%20%20%20%20%20%20%20%20%20%20%20%20%20%20%20%20%20%20%20height%3A%20100.0%25%3B%0A%20%20%20%20%20%20%20%20%20%20%20%20%20%20%20%20%20%20%20%20left%3A%200.0%25%3B%0A%20%20%20%20%20%20%20%20%20%20%20%20%20%20%20%20%20%20%20%20top%3A%200.0%25%3B%0A%20%20%20%20%20%20%20%20%20%20%20%20%20%20%20%20%7D%0A%20%20%20%20%20%20%20%20%20%20%20%20%3C/style%3E%0A%20%20%20%20%20%20%20%20%0A%20%20%20%20%3Cscript%20src%3D%22https%3A//cdnjs.cloudflare.com/ajax/libs/d3/3.5.5/d3.min.js%22%3E%3C/script%3E%0A%3C/head%3E%0A%3Cbody%3E%20%20%20%20%0A%20%20%20%20%0A%20%20%20%20%20%20%20%20%20%20%20%20%3Cdiv%20class%3D%22folium-map%22%20id%3D%22map_dafdb268ad50413b93ca7d6a32fe1738%22%20%3E%3C/div%3E%0A%20%20%20%20%20%20%20%20%0A%3C/body%3E%0A%3Cscript%3E%20%20%20%20%0A%20%20%20%20%0A%20%20%20%20%20%20%20%20%20%20%20%20var%20map_dafdb268ad50413b93ca7d6a32fe1738%20%3D%20L.map%28%0A%20%20%20%20%20%20%20%20%20%20%20%20%20%20%20%20%22map_dafdb268ad50413b93ca7d6a32fe1738%22%2C%0A%20%20%20%20%20%20%20%20%20%20%20%20%20%20%20%20%7B%0A%20%20%20%20%20%20%20%20%20%20%20%20%20%20%20%20%20%20%20%20center%3A%20%5B43.45%2C%20-7.87%5D%2C%0A%20%20%20%20%20%20%20%20%20%20%20%20%20%20%20%20%20%20%20%20crs%3A%20L.CRS.EPSG3857%2C%0A%20%20%20%20%20%20%20%20%20%20%20%20%20%20%20%20%20%20%20%20zoom%3A%2014%2C%0A%20%20%20%20%20%20%20%20%20%20%20%20%20%20%20%20%20%20%20%20zoomControl%3A%20true%2C%0A%20%20%20%20%20%20%20%20%20%20%20%20%20%20%20%20%20%20%20%20preferCanvas%3A%20false%2C%0A%20%20%20%20%20%20%20%20%20%20%20%20%20%20%20%20%7D%0A%20%20%20%20%20%20%20%20%20%20%20%20%29%3B%0A%0A%20%20%20%20%20%20%20%20%20%20%20%20%0A%0A%20%20%20%20%20%20%20%20%0A%20%20%20%20%0A%20%20%20%20%20%20%20%20%20%20%20%20var%20tile_layer_5d6c1416c69f49d98808783fafe9859b%20%3D%20L.tileLayer%28%0A%20%20%20%20%20%20%20%20%20%20%20%20%20%20%20%20%22https%3A//cartodb-basemaps-%7Bs%7D.global.ssl.fastly.net/light_all/%7Bz%7D/%7Bx%7D/%7By%7D.png%22%2C%0A%20%20%20%20%20%20%20%20%20%20%20%20%20%20%20%20%7B%22attribution%22%3A%20%22%5Cu0026copy%3B%20%5Cu003ca%20href%3D%5C%22http%3A//www.openstreetmap.org/copyright%5C%22%5Cu003eOpenStreetMap%5Cu003c/a%5Cu003e%20contributors%20%5Cu0026copy%3B%20%5Cu003ca%20href%3D%5C%22http%3A//cartodb.com/attributions%5C%22%5Cu003eCartoDB%5Cu003c/a%5Cu003e%2C%20CartoDB%20%5Cu003ca%20href%20%3D%5C%22http%3A//cartodb.com/attributions%5C%22%5Cu003eattributions%5Cu003c/a%5Cu003e%22%2C%20%22detectRetina%22%3A%20false%2C%20%22maxNativeZoom%22%3A%2018%2C%20%22maxZoom%22%3A%2018%2C%20%22minZoom%22%3A%200%2C%20%22noWrap%22%3A%20false%2C%20%22opacity%22%3A%201%2C%20%22subdomains%22%3A%20%22abc%22%2C%20%22tms%22%3A%20false%7D%0A%20%20%20%20%20%20%20%20%20%20%20%20%29.addTo%28map_dafdb268ad50413b93ca7d6a32fe1738%29%3B%0A%20%20%20%20%20%20%20%20%0A%20%20%20%20%0A%20%20%20%20%20%20%20%20%20%20%20%20var%20circle_f0008f77bcde4880b1bce36d17fdf624%20%3D%20L.circle%28%0A%20%20%20%20%20%20%20%20%20%20%20%20%20%20%20%20%5B43.43717%2C%20-7.86444%5D%2C%0A%20%20%20%20%20%20%20%20%20%20%20%20%20%20%20%20%7B%22bubblingMouseEvents%22%3A%20true%2C%20%22color%22%3A%20%22%23ff0000ff%22%2C%20%22dashArray%22%3A%20null%2C%20%22dashOffset%22%3A%20null%2C%20%22fill%22%3A%20true%2C%20%22fillColor%22%3A%20%22%23ff0000ff%22%2C%20%22fillOpacity%22%3A%200.2%2C%20%22fillRule%22%3A%20%22evenodd%22%2C%20%22lineCap%22%3A%20%22round%22%2C%20%22lineJoin%22%3A%20%22round%22%2C%20%22opacity%22%3A%201.0%2C%20%22radius%22%3A%2020%2C%20%22stroke%22%3A%20true%2C%20%22weight%22%3A%203%7D%0A%20%20%20%20%20%20%20%20%20%20%20%20%29.addTo%28map_dafdb268ad50413b93ca7d6a32fe1738%29%3B%0A%20%20%20%20%20%20%20%20%0A%20%20%20%20%0A%20%20%20%20%20%20%20%20%20%20%20%20var%20circle_542e6e98751644eea8af6a3c905a1384%20%3D%20L.circle%28%0A%20%20%20%20%20%20%20%20%20%20%20%20%20%20%20%20%5B43.43827%2C%20-7.86376%5D%2C%0A%20%20%20%20%20%20%20%20%20%20%20%20%20%20%20%20%7B%22bubblingMouseEvents%22%3A%20true%2C%20%22color%22%3A%20%22%23ff0000ff%22%2C%20%22dashArray%22%3A%20null%2C%20%22dashOffset%22%3A%20null%2C%20%22fill%22%3A%20true%2C%20%22fillColor%22%3A%20%22%23ff0000ff%22%2C%20%22fillOpacity%22%3A%200.2%2C%20%22fillRule%22%3A%20%22evenodd%22%2C%20%22lineCap%22%3A%20%22round%22%2C%20%22lineJoin%22%3A%20%22round%22%2C%20%22opacity%22%3A%201.0%2C%20%22radius%22%3A%2020%2C%20%22stroke%22%3A%20true%2C%20%22weight%22%3A%203%7D%0A%20%20%20%20%20%20%20%20%20%20%20%20%29.addTo%28map_dafdb268ad50413b93ca7d6a32fe1738%29%3B%0A%20%20%20%20%20%20%20%20%0A%20%20%20%20%0A%20%20%20%20%20%20%20%20%20%20%20%20var%20circle_670a26724d054b329e0df628b3549fe7%20%3D%20L.circle%28%0A%20%20%20%20%20%20%20%20%20%20%20%20%20%20%20%20%5B43.44075%2C%20-7.85755%5D%2C%0A%20%20%20%20%20%20%20%20%20%20%20%20%20%20%20%20%7B%22bubblingMouseEvents%22%3A%20true%2C%20%22color%22%3A%20%22%23ff0000ff%22%2C%20%22dashArray%22%3A%20null%2C%20%22dashOffset%22%3A%20null%2C%20%22fill%22%3A%20true%2C%20%22fillColor%22%3A%20%22%23ff0000ff%22%2C%20%22fillOpacity%22%3A%200.2%2C%20%22fillRule%22%3A%20%22evenodd%22%2C%20%22lineCap%22%3A%20%22round%22%2C%20%22lineJoin%22%3A%20%22round%22%2C%20%22opacity%22%3A%201.0%2C%20%22radius%22%3A%2020%2C%20%22stroke%22%3A%20true%2C%20%22weight%22%3A%203%7D%0A%20%20%20%20%20%20%20%20%20%20%20%20%29.addTo%28map_dafdb268ad50413b93ca7d6a32fe1738%29%3B%0A%20%20%20%20%20%20%20%20%0A%20%20%20%20%0A%20%20%20%20%20%20%20%20%20%20%20%20var%20circle_716037ab32104789be4ae323e86f1719%20%3D%20L.circle%28%0A%20%20%20%20%20%20%20%20%20%20%20%20%20%20%20%20%5B43.44114%2C%20-7.85587%5D%2C%0A%20%20%20%20%20%20%20%20%20%20%20%20%20%20%20%20%7B%22bubblingMouseEvents%22%3A%20true%2C%20%22color%22%3A%20%22%23ff0000ff%22%2C%20%22dashArray%22%3A%20null%2C%20%22dashOffset%22%3A%20null%2C%20%22fill%22%3A%20true%2C%20%22fillColor%22%3A%20%22%23ff0000ff%22%2C%20%22fillOpacity%22%3A%200.2%2C%20%22fillRule%22%3A%20%22evenodd%22%2C%20%22lineCap%22%3A%20%22round%22%2C%20%22lineJoin%22%3A%20%22round%22%2C%20%22opacity%22%3A%201.0%2C%20%22radius%22%3A%2020%2C%20%22stroke%22%3A%20true%2C%20%22weight%22%3A%203%7D%0A%20%20%20%20%20%20%20%20%20%20%20%20%29.addTo%28map_dafdb268ad50413b93ca7d6a32fe1738%29%3B%0A%20%20%20%20%20%20%20%20%0A%20%20%20%20%0A%20%20%20%20var%20color_map_239bc2adc955417188b9fbd94d7cd027%20%3D%20%7B%7D%3B%0A%0A%20%20%20%20%0A%20%20%20%20color_map_239bc2adc955417188b9fbd94d7cd027.color%20%3D%20d3.scale.threshold%28%29%0A%20%20%20%20%20%20%20%20%20%20%20%20%20%20.domain%28%5B90.0%2C%2090.02004008016031%2C%2090.04008016032064%2C%2090.06012024048096%2C%2090.08016032064128%2C%2090.1002004008016%2C%2090.12024048096193%2C%2090.14028056112224%2C%2090.16032064128257%2C%2090.18036072144288%2C%2090.20040080160321%2C%2090.22044088176352%2C%2090.24048096192385%2C%2090.26052104208416%2C%2090.28056112224449%2C%2090.3006012024048%2C%2090.32064128256513%2C%2090.34068136272545%2C%2090.36072144288578%2C%2090.38076152304609%2C%2090.40080160320642%2C%2090.42084168336673%2C%2090.44088176352706%2C%2090.46092184368737%2C%2090.4809619238477%2C%2090.50100200400801%2C%2090.52104208416834%2C%2090.54108216432866%2C%2090.56112224448898%2C%2090.5811623246493%2C%2090.60120240480961%2C%2090.62124248496994%2C%2090.64128256513025%2C%2090.66132264529058%2C%2090.6813627254509%2C%2090.70140280561122%2C%2090.72144288577154%2C%2090.74148296593187%2C%2090.76152304609218%2C%2090.78156312625251%2C%2090.80160320641282%2C%2090.82164328657315%2C%2090.84168336673346%2C%2090.86172344689379%2C%2090.8817635270541%2C%2090.90180360721443%2C%2090.92184368737475%2C%2090.94188376753507%2C%2090.96192384769539%2C%2090.98196392785572%2C%2091.00200400801603%2C%2091.02204408817636%2C%2091.04208416833667%2C%2091.062124248497%2C%2091.08216432865731%2C%2091.10220440881764%2C%2091.12224448897796%2C%2091.14228456913828%2C%2091.1623246492986%2C%2091.18236472945893%2C%2091.20240480961924%2C%2091.22244488977955%2C%2091.24248496993988%2C%2091.2625250501002%2C%2091.28256513026052%2C%2091.30260521042084%2C%2091.32264529058116%2C%2091.34268537074148%2C%2091.3627254509018%2C%2091.38276553106212%2C%2091.40280561122245%2C%2091.42284569138276%2C%2091.44288577154309%2C%2091.4629258517034%2C%2091.48296593186373%2C%2091.50300601202404%2C%2091.52304609218437%2C%2091.54308617234469%2C%2091.56312625250501%2C%2091.58316633266533%2C%2091.60320641282566%2C%2091.62324649298597%2C%2091.6432865731463%2C%2091.66332665330661%2C%2091.68336673346694%2C%2091.70340681362725%2C%2091.72344689378758%2C%2091.7434869739479%2C%2091.76352705410821%2C%2091.78356713426854%2C%2091.80360721442885%2C%2091.82364729458918%2C%2091.84368737474949%2C%2091.86372745490982%2C%2091.88376753507013%2C%2091.90380761523046%2C%2091.92384769539078%2C%2091.9438877755511%2C%2091.96392785571142%2C%2091.98396793587175%2C%2092.00400801603206%2C%2092.02404809619239%2C%2092.0440881763527%2C%2092.06412825651303%2C%2092.08416833667334%2C%2092.10420841683367%2C%2092.12424849699399%2C%2092.14428857715431%2C%2092.16432865731463%2C%2092.18436873747495%2C%2092.20440881763527%2C%2092.2244488977956%2C%2092.24448897795591%2C%2092.26452905811624%2C%2092.28456913827655%2C%2092.30460921843688%2C%2092.3246492985972%2C%2092.34468937875752%2C%2092.36472945891784%2C%2092.38476953907815%2C%2092.40480961923848%2C%2092.42484969939879%2C%2092.44488977955912%2C%2092.46492985971943%2C%2092.48496993987976%2C%2092.50501002004007%2C%2092.5250501002004%2C%2092.54509018036072%2C%2092.56513026052104%2C%2092.58517034068136%2C%2092.60521042084169%2C%2092.625250501002%2C%2092.64529058116233%2C%2092.66533066132264%2C%2092.68537074148297%2C%2092.70541082164328%2C%2092.72545090180361%2C%2092.74549098196393%2C%2092.76553106212425%2C%2092.78557114228457%2C%2092.8056112224449%2C%2092.82565130260521%2C%2092.84569138276554%2C%2092.86573146292585%2C%2092.88577154308618%2C%2092.90581162324649%2C%2092.9258517034068%2C%2092.94589178356713%2C%2092.96593186372745%2C%2092.98597194388778%2C%2093.00601202404809%2C%2093.02605210420842%2C%2093.04609218436873%2C%2093.06613226452906%2C%2093.08617234468937%2C%2093.1062124248497%2C%2093.12625250501002%2C%2093.14629258517034%2C%2093.16633266533066%2C%2093.18637274549098%2C%2093.2064128256513%2C%2093.22645290581163%2C%2093.24649298597194%2C%2093.26653306613227%2C%2093.28657314629258%2C%2093.30661322645291%2C%2093.32665330661322%2C%2093.34669338677355%2C%2093.36673346693387%2C%2093.3867735470942%2C%2093.40681362725451%2C%2093.42685370741484%2C%2093.44689378757515%2C%2093.46693386773548%2C%2093.48697394789579%2C%2093.50701402805612%2C%2093.52705410821643%2C%2093.54709418837675%2C%2093.56713426853707%2C%2093.58717434869739%2C%2093.60721442885772%2C%2093.62725450901803%2C%2093.64729458917836%2C%2093.66733466933867%2C%2093.687374749499%2C%2093.70741482965931%2C%2093.72745490981964%2C%2093.74749498997996%2C%2093.76753507014028%2C%2093.7875751503006%2C%2093.80761523046093%2C%2093.82765531062124%2C%2093.84769539078157%2C%2093.86773547094188%2C%2093.88777555110221%2C%2093.90781563126252%2C%2093.92785571142285%2C%2093.94789579158316%2C%2093.96793587174349%2C%2093.9879759519038%2C%2094.00801603206413%2C%2094.02805611222445%2C%2094.04809619238478%2C%2094.06813627254509%2C%2094.0881763527054%2C%2094.10821643286573%2C%2094.12825651302606%2C%2094.14829659318637%2C%2094.16833667334669%2C%2094.18837675350701%2C%2094.20841683366733%2C%2094.22845691382766%2C%2094.24849699398797%2C%2094.2685370741483%2C%2094.28857715430861%2C%2094.30861723446894%2C%2094.32865731462925%2C%2094.34869739478958%2C%2094.3687374749499%2C%2094.38877755511022%2C%2094.40881763527054%2C%2094.42885771543087%2C%2094.44889779559118%2C%2094.46893787575151%2C%2094.48897795591182%2C%2094.50901803607215%2C%2094.52905811623246%2C%2094.54909819639279%2C%2094.5691382765531%2C%2094.58917835671343%2C%2094.60921843687375%2C%2094.62925851703407%2C%2094.64929859719439%2C%2094.66933867735472%2C%2094.68937875751503%2C%2094.70941883767534%2C%2094.72945891783567%2C%2094.74949899799599%2C%2094.76953907815631%2C%2094.78957915831663%2C%2094.80961923847696%2C%2094.82965931863727%2C%2094.8496993987976%2C%2094.86973947895791%2C%2094.88977955911824%2C%2094.90981963927855%2C%2094.92985971943888%2C%2094.9498997995992%2C%2094.96993987975952%2C%2094.98997995991984%2C%2095.01002004008016%2C%2095.03006012024048%2C%2095.0501002004008%2C%2095.07014028056112%2C%2095.09018036072145%2C%2095.11022044088176%2C%2095.13026052104209%2C%2095.1503006012024%2C%2095.17034068136273%2C%2095.19038076152304%2C%2095.21042084168337%2C%2095.23046092184369%2C%2095.25050100200401%2C%2095.27054108216433%2C%2095.29058116232466%2C%2095.31062124248497%2C%2095.33066132264528%2C%2095.35070140280561%2C%2095.37074148296593%2C%2095.39078156312625%2C%2095.41082164328657%2C%2095.4308617234469%2C%2095.45090180360721%2C%2095.47094188376754%2C%2095.49098196392785%2C%2095.51102204408818%2C%2095.53106212424849%2C%2095.55110220440882%2C%2095.57114228456913%2C%2095.59118236472946%2C%2095.61122244488978%2C%2095.6312625250501%2C%2095.65130260521042%2C%2095.67134268537075%2C%2095.69138276553106%2C%2095.71142284569139%2C%2095.7314629258517%2C%2095.75150300601203%2C%2095.77154308617234%2C%2095.79158316633267%2C%2095.81162324649299%2C%2095.83166332665331%2C%2095.85170340681363%2C%2095.87174348697394%2C%2095.89178356713427%2C%2095.9118236472946%2C%2095.93186372745491%2C%2095.95190380761522%2C%2095.97194388777555%2C%2095.99198396793587%2C%2096.0120240480962%2C%2096.03206412825651%2C%2096.05210420841684%2C%2096.07214428857715%2C%2096.09218436873748%2C%2096.11222444889779%2C%2096.13226452905812%2C%2096.15230460921843%2C%2096.17234468937876%2C%2096.19238476953907%2C%2096.2124248496994%2C%2096.23246492985972%2C%2096.25250501002004%2C%2096.27254509018036%2C%2096.29258517034069%2C%2096.312625250501%2C%2096.33266533066133%2C%2096.35270541082164%2C%2096.37274549098197%2C%2096.39278557114228%2C%2096.41282565130261%2C%2096.43286573146293%2C%2096.45290581162325%2C%2096.47294589178357%2C%2096.49298597194388%2C%2096.51302605210421%2C%2096.53306613226452%2C%2096.55310621242485%2C%2096.57314629258516%2C%2096.59318637274549%2C%2096.6132264529058%2C%2096.63326653306613%2C%2096.65330661322645%2C%2096.67334669338678%2C%2096.69338677354709%2C%2096.71342685370742%2C%2096.73346693386773%2C%2096.75350701402806%2C%2096.77354709418837%2C%2096.7935871743487%2C%2096.81362725450902%2C%2096.83366733466934%2C%2096.85370741482966%2C%2096.87374749498998%2C%2096.8937875751503%2C%2096.91382765531063%2C%2096.93386773547094%2C%2096.95390781563127%2C%2096.97394789579158%2C%2096.99398797595191%2C%2097.01402805611222%2C%2097.03406813627254%2C%2097.05410821643287%2C%2097.0741482965932%2C%2097.09418837675351%2C%2097.11422845691382%2C%2097.13426853707415%2C%2097.15430861723446%2C%2097.17434869739479%2C%2097.1943887775551%2C%2097.21442885771543%2C%2097.23446893787575%2C%2097.25450901803607%2C%2097.27454909819639%2C%2097.29458917835672%2C%2097.31462925851703%2C%2097.33466933867736%2C%2097.35470941883767%2C%2097.374749498998%2C%2097.39478957915831%2C%2097.41482965931864%2C%2097.43486973947896%2C%2097.45490981963928%2C%2097.4749498997996%2C%2097.49498997995993%2C%2097.51503006012024%2C%2097.53507014028057%2C%2097.55511022044088%2C%2097.57515030060121%2C%2097.59519038076152%2C%2097.61523046092185%2C%2097.63527054108216%2C%2097.65531062124248%2C%2097.6753507014028%2C%2097.69539078156312%2C%2097.71543086172345%2C%2097.73547094188376%2C%2097.75551102204409%2C%2097.7755511022044%2C%2097.79559118236473%2C%2097.81563126252505%2C%2097.83567134268537%2C%2097.85571142284569%2C%2097.87575150300601%2C%2097.89579158316633%2C%2097.91583166332666%2C%2097.93587174348697%2C%2097.9559118236473%2C%2097.97595190380761%2C%2097.99599198396794%2C%2098.01603206412825%2C%2098.03607214428858%2C%2098.0561122244489%2C%2098.07615230460922%2C%2098.09619238476954%2C%2098.11623246492987%2C%2098.13627254509018%2C%2098.15631262525051%2C%2098.17635270541082%2C%2098.19639278557113%2C%2098.21643286573146%2C%2098.23647294589179%2C%2098.2565130260521%2C%2098.27655310621242%2C%2098.29659318637275%2C%2098.31663326653306%2C%2098.33667334669339%2C%2098.3567134268537%2C%2098.37675350701403%2C%2098.39679358717434%2C%2098.41683366733467%2C%2098.43687374749499%2C%2098.45691382765531%2C%2098.47695390781563%2C%2098.49699398797596%2C%2098.51703406813627%2C%2098.5370741482966%2C%2098.55711422845691%2C%2098.57715430861724%2C%2098.59719438877755%2C%2098.61723446893788%2C%2098.6372745490982%2C%2098.65731462925852%2C%2098.67735470941884%2C%2098.69739478957916%2C%2098.71743486973948%2C%2098.7374749498998%2C%2098.75751503006012%2C%2098.77755511022045%2C%2098.79759519038076%2C%2098.81763527054107%2C%2098.8376753507014%2C%2098.85771543086173%2C%2098.87775551102204%2C%2098.89779559118236%2C%2098.91783567134269%2C%2098.937875751503%2C%2098.95791583166333%2C%2098.97795591182364%2C%2098.99799599198397%2C%2099.01803607214428%2C%2099.03807615230461%2C%2099.05811623246493%2C%2099.07815631262525%2C%2099.09819639278557%2C%2099.1182364729459%2C%2099.13827655310621%2C%2099.15831663326654%2C%2099.17835671342685%2C%2099.19839679358718%2C%2099.21843687374749%2C%2099.23847695390782%2C%2099.25851703406813%2C%2099.27855711422846%2C%2099.29859719438878%2C%2099.3186372745491%2C%2099.33867735470942%2C%2099.35871743486973%2C%2099.37875751503006%2C%2099.39879759519039%2C%2099.4188376753507%2C%2099.43887775551102%2C%2099.45891783567134%2C%2099.47895791583167%2C%2099.49899799599199%2C%2099.5190380761523%2C%2099.53907815631263%2C%2099.55911823647294%2C%2099.57915831663327%2C%2099.59919839679358%2C%2099.61923847695391%2C%2099.63927855711422%2C%2099.65931863727455%2C%2099.67935871743487%2C%2099.6993987975952%2C%2099.71943887775551%2C%2099.73947895791584%2C%2099.75951903807615%2C%2099.77955911823648%2C%2099.79959919839679%2C%2099.81963927855712%2C%2099.83967935871743%2C%2099.85971943887776%2C%2099.87975951903807%2C%2099.8997995991984%2C%2099.91983967935872%2C%2099.93987975951904%2C%2099.95991983967936%2C%2099.97995991983967%2C%20100.0%5D%29%0A%20%20%20%20%20%20%20%20%20%20%20%20%20%20.range%28%5B%27%23ff0000ff%27%2C%20%27%23ff0000ff%27%2C%20%27%23ff0000ff%27%2C%20%27%23ff0101ff%27%2C%20%27%23ff0101ff%27%2C%20%27%23ff0202ff%27%2C%20%27%23ff0202ff%27%2C%20%27%23fe0303ff%27%2C%20%27%23fe0303ff%27%2C%20%27%23fe0304ff%27%2C%20%27%23fe0404ff%27%2C%20%27%23fe0405ff%27%2C%20%27%23fe0505ff%27%2C%20%27%23fd0506ff%27%2C%20%27%23fd0606ff%27%2C%20%27%23fd0606ff%27%2C%20%27%23fd0607ff%27%2C%20%27%23fd0707ff%27%2C%20%27%23fd0708ff%27%2C%20%27%23fc0808ff%27%2C%20%27%23fc0809ff%27%2C%20%27%23fc0909ff%27%2C%20%27%23fc090aff%27%2C%20%27%23fc090aff%27%2C%20%27%23fc0a0bff%27%2C%20%27%23fb0a0bff%27%2C%20%27%23fb0b0cff%27%2C%20%27%23fb0b0cff%27%2C%20%27%23fb0c0cff%27%2C%20%27%23fb0c0dff%27%2C%20%27%23fb0d0dff%27%2C%20%27%23fa0d0eff%27%2C%20%27%23fa0d0eff%27%2C%20%27%23fa0e0fff%27%2C%20%27%23fa0e0fff%27%2C%20%27%23fa0f10ff%27%2C%20%27%23fa0f10ff%27%2C%20%27%23f91011ff%27%2C%20%27%23f91011ff%27%2C%20%27%23f91012ff%27%2C%20%27%23f91112ff%27%2C%20%27%23f91112ff%27%2C%20%27%23f91213ff%27%2C%20%27%23f81213ff%27%2C%20%27%23f81314ff%27%2C%20%27%23f81314ff%27%2C%20%27%23f81315ff%27%2C%20%27%23f81415ff%27%2C%20%27%23f81416ff%27%2C%20%27%23f71516ff%27%2C%20%27%23f71517ff%27%2C%20%27%23f71617ff%27%2C%20%27%23f71618ff%27%2C%20%27%23f71718ff%27%2C%20%27%23f71718ff%27%2C%20%27%23f61719ff%27%2C%20%27%23f61819ff%27%2C%20%27%23f6181aff%27%2C%20%27%23f6191aff%27%2C%20%27%23f6191bff%27%2C%20%27%23f61a1bff%27%2C%20%27%23f51a1cff%27%2C%20%27%23f51a1cff%27%2C%20%27%23f51b1dff%27%2C%20%27%23f51b1dff%27%2C%20%27%23f51c1eff%27%2C%20%27%23f51c1eff%27%2C%20%27%23f41d1fff%27%2C%20%27%23f41d1fff%27%2C%20%27%23f41d1fff%27%2C%20%27%23f41e20ff%27%2C%20%27%23f41e20ff%27%2C%20%27%23f41f21ff%27%2C%20%27%23f31f21ff%27%2C%20%27%23f32022ff%27%2C%20%27%23f32022ff%27%2C%20%27%23f32123ff%27%2C%20%27%23f32123ff%27%2C%20%27%23f32124ff%27%2C%20%27%23f22224ff%27%2C%20%27%23f22225ff%27%2C%20%27%23f22325ff%27%2C%20%27%23f22325ff%27%2C%20%27%23f22426ff%27%2C%20%27%23f22426ff%27%2C%20%27%23f12427ff%27%2C%20%27%23f12527ff%27%2C%20%27%23f12528ff%27%2C%20%27%23f12628ff%27%2C%20%27%23f12629ff%27%2C%20%27%23f12729ff%27%2C%20%27%23f0272aff%27%2C%20%27%23f0272aff%27%2C%20%27%23f0282bff%27%2C%20%27%23f0282bff%27%2C%20%27%23f0292bff%27%2C%20%27%23f0292cff%27%2C%20%27%23ef2a2cff%27%2C%20%27%23ef2a2dff%27%2C%20%27%23ef2b2dff%27%2C%20%27%23ef2b2eff%27%2C%20%27%23ef2b2eff%27%2C%20%27%23ef2c2fff%27%2C%20%27%23ef2c2fff%27%2C%20%27%23ee2d30ff%27%2C%20%27%23ee2d30ff%27%2C%20%27%23ee2e31ff%27%2C%20%27%23ee2e31ff%27%2C%20%27%23ee2e31ff%27%2C%20%27%23ee2f32ff%27%2C%20%27%23ed2f32ff%27%2C%20%27%23ed3033ff%27%2C%20%27%23ed3033ff%27%2C%20%27%23ed3134ff%27%2C%20%27%23ed3134ff%27%2C%20%27%23ed3135ff%27%2C%20%27%23ec3235ff%27%2C%20%27%23ec3236ff%27%2C%20%27%23ec3336ff%27%2C%20%27%23ec3337ff%27%2C%20%27%23ec3437ff%27%2C%20%27%23ec3437ff%27%2C%20%27%23eb3538ff%27%2C%20%27%23eb3538ff%27%2C%20%27%23eb3539ff%27%2C%20%27%23eb3639ff%27%2C%20%27%23eb363aff%27%2C%20%27%23eb373aff%27%2C%20%27%23ea373bff%27%2C%20%27%23ea383bff%27%2C%20%27%23ea383cff%27%2C%20%27%23ea383cff%27%2C%20%27%23ea393dff%27%2C%20%27%23ea393dff%27%2C%20%27%23e93a3eff%27%2C%20%27%23e93a3eff%27%2C%20%27%23e93b3eff%27%2C%20%27%23e93b3fff%27%2C%20%27%23e93b3fff%27%2C%20%27%23e93c40ff%27%2C%20%27%23e83c40ff%27%2C%20%27%23e83d41ff%27%2C%20%27%23e83d41ff%27%2C%20%27%23e83e42ff%27%2C%20%27%23e83e42ff%27%2C%20%27%23e83f43ff%27%2C%20%27%23e73f43ff%27%2C%20%27%23e73f44ff%27%2C%20%27%23e74044ff%27%2C%20%27%23e74044ff%27%2C%20%27%23e74145ff%27%2C%20%27%23e74145ff%27%2C%20%27%23e64246ff%27%2C%20%27%23e64246ff%27%2C%20%27%23e64247ff%27%2C%20%27%23e64347ff%27%2C%20%27%23e64348ff%27%2C%20%27%23e64448ff%27%2C%20%27%23e54449ff%27%2C%20%27%23e54549ff%27%2C%20%27%23e5454aff%27%2C%20%27%23e5454aff%27%2C%20%27%23e5464aff%27%2C%20%27%23e5464bff%27%2C%20%27%23e4474bff%27%2C%20%27%23e4474cff%27%2C%20%27%23e4484cff%27%2C%20%27%23e4484dff%27%2C%20%27%23e4494dff%27%2C%20%27%23e4494eff%27%2C%20%27%23e3494eff%27%2C%20%27%23e34a4fff%27%2C%20%27%23e34a4fff%27%2C%20%27%23e34b50ff%27%2C%20%27%23e34b50ff%27%2C%20%27%23e34c50ff%27%2C%20%27%23e24c51ff%27%2C%20%27%23e24c51ff%27%2C%20%27%23e24d52ff%27%2C%20%27%23e24d52ff%27%2C%20%27%23e24e53ff%27%2C%20%27%23e24e53ff%27%2C%20%27%23e14f54ff%27%2C%20%27%23e14f54ff%27%2C%20%27%23e14f55ff%27%2C%20%27%23e15055ff%27%2C%20%27%23e15056ff%27%2C%20%27%23e15156ff%27%2C%20%27%23e05156ff%27%2C%20%27%23e05257ff%27%2C%20%27%23e05257ff%27%2C%20%27%23e05358ff%27%2C%20%27%23e05358ff%27%2C%20%27%23e05359ff%27%2C%20%27%23df5459ff%27%2C%20%27%23df545aff%27%2C%20%27%23df555aff%27%2C%20%27%23df555bff%27%2C%20%27%23df565bff%27%2C%20%27%23df565cff%27%2C%20%27%23df565cff%27%2C%20%27%23de575dff%27%2C%20%27%23de575dff%27%2C%20%27%23de585dff%27%2C%20%27%23de585eff%27%2C%20%27%23de595eff%27%2C%20%27%23de595fff%27%2C%20%27%23dd595fff%27%2C%20%27%23dd5a60ff%27%2C%20%27%23dd5a60ff%27%2C%20%27%23dd5b61ff%27%2C%20%27%23dd5b61ff%27%2C%20%27%23dd5c62ff%27%2C%20%27%23dc5c62ff%27%2C%20%27%23dc5c63ff%27%2C%20%27%23dc5d63ff%27%2C%20%27%23dc5d63ff%27%2C%20%27%23dc5e64ff%27%2C%20%27%23dc5e64ff%27%2C%20%27%23db5f65ff%27%2C%20%27%23db5f65ff%27%2C%20%27%23db6066ff%27%2C%20%27%23db6066ff%27%2C%20%27%23db6067ff%27%2C%20%27%23db6167ff%27%2C%20%27%23da6168ff%27%2C%20%27%23da6268ff%27%2C%20%27%23da6269ff%27%2C%20%27%23da6369ff%27%2C%20%27%23da6369ff%27%2C%20%27%23da636aff%27%2C%20%27%23d9646aff%27%2C%20%27%23d9646bff%27%2C%20%27%23d9656bff%27%2C%20%27%23d9656cff%27%2C%20%27%23d9666cff%27%2C%20%27%23d9666dff%27%2C%20%27%23d8666dff%27%2C%20%27%23d8676eff%27%2C%20%27%23d8676eff%27%2C%20%27%23d8686fff%27%2C%20%27%23d8686fff%27%2C%20%27%23d8696fff%27%2C%20%27%23d76970ff%27%2C%20%27%23d76a70ff%27%2C%20%27%23d76a71ff%27%2C%20%27%23d76a71ff%27%2C%20%27%23d76b72ff%27%2C%20%27%23d76b72ff%27%2C%20%27%23d66c73ff%27%2C%20%27%23d66c73ff%27%2C%20%27%23d66d74ff%27%2C%20%27%23d66d74ff%27%2C%20%27%23d66d75ff%27%2C%20%27%23d66e75ff%27%2C%20%27%23d56e75ff%27%2C%20%27%23d56f76ff%27%2C%20%27%23d56f76ff%27%2C%20%27%23d57077ff%27%2C%20%27%23d57077ff%27%2C%20%27%23d57078ff%27%2C%20%27%23d47178ff%27%2C%20%27%23d47179ff%27%2C%20%27%23d47279ff%27%2C%20%27%23d4727aff%27%2C%20%27%23d4737aff%27%2C%20%27%23d4737bff%27%2C%20%27%23d3747bff%27%2C%20%27%23d3747cff%27%2C%20%27%23d3747cff%27%2C%20%27%23d3757cff%27%2C%20%27%23d3757dff%27%2C%20%27%23d3767dff%27%2C%20%27%23d2767eff%27%2C%20%27%23d2777eff%27%2C%20%27%23d2777fff%27%2C%20%27%23d2777fff%27%2C%20%27%23d27880ff%27%2C%20%27%23d27880ff%27%2C%20%27%23d17981ff%27%2C%20%27%23d17981ff%27%2C%20%27%23d17a82ff%27%2C%20%27%23d17a82ff%27%2C%20%27%23d17a82ff%27%2C%20%27%23d17b83ff%27%2C%20%27%23d07b83ff%27%2C%20%27%23d07c84ff%27%2C%20%27%23d07c84ff%27%2C%20%27%23d07d85ff%27%2C%20%27%23d07d85ff%27%2C%20%27%23d07e86ff%27%2C%20%27%23cf7e86ff%27%2C%20%27%23cf7e87ff%27%2C%20%27%23cf7f87ff%27%2C%20%27%23cf7f88ff%27%2C%20%27%23cf8088ff%27%2C%20%27%23cf8088ff%27%2C%20%27%23cf8189ff%27%2C%20%27%23ce8189ff%27%2C%20%27%23ce818aff%27%2C%20%27%23ce828aff%27%2C%20%27%23ce828bff%27%2C%20%27%23ce838bff%27%2C%20%27%23ce838cff%27%2C%20%27%23cd848cff%27%2C%20%27%23cd848dff%27%2C%20%27%23cd848dff%27%2C%20%27%23cd858eff%27%2C%20%27%23cd858eff%27%2C%20%27%23cd868eff%27%2C%20%27%23cc868fff%27%2C%20%27%23cc878fff%27%2C%20%27%23cc8790ff%27%2C%20%27%23cc8890ff%27%2C%20%27%23cc8891ff%27%2C%20%27%23cc8891ff%27%2C%20%27%23cb8992ff%27%2C%20%27%23cb8992ff%27%2C%20%27%23cb8a93ff%27%2C%20%27%23cb8a93ff%27%2C%20%27%23cb8b94ff%27%2C%20%27%23cb8b94ff%27%2C%20%27%23ca8b94ff%27%2C%20%27%23ca8c95ff%27%2C%20%27%23ca8c95ff%27%2C%20%27%23ca8d96ff%27%2C%20%27%23ca8d96ff%27%2C%20%27%23ca8e97ff%27%2C%20%27%23c98e97ff%27%2C%20%27%23c98e98ff%27%2C%20%27%23c98f98ff%27%2C%20%27%23c98f99ff%27%2C%20%27%23c99099ff%27%2C%20%27%23c9909aff%27%2C%20%27%23c8919aff%27%2C%20%27%23c8919bff%27%2C%20%27%23c8929bff%27%2C%20%27%23c8929bff%27%2C%20%27%23c8929cff%27%2C%20%27%23c8939cff%27%2C%20%27%23c7939dff%27%2C%20%27%23c7949dff%27%2C%20%27%23c7949eff%27%2C%20%27%23c7959eff%27%2C%20%27%23c7959fff%27%2C%20%27%23c7959fff%27%2C%20%27%23c696a0ff%27%2C%20%27%23c696a0ff%27%2C%20%27%23c697a1ff%27%2C%20%27%23c697a1ff%27%2C%20%27%23c698a1ff%27%2C%20%27%23c698a2ff%27%2C%20%27%23c598a2ff%27%2C%20%27%23c599a3ff%27%2C%20%27%23c599a3ff%27%2C%20%27%23c59aa4ff%27%2C%20%27%23c59aa4ff%27%2C%20%27%23c59ba5ff%27%2C%20%27%23c49ba5ff%27%2C%20%27%23c49ca6ff%27%2C%20%27%23c49ca6ff%27%2C%20%27%23c49ca7ff%27%2C%20%27%23c49da7ff%27%2C%20%27%23c49da7ff%27%2C%20%27%23c39ea8ff%27%2C%20%27%23c39ea8ff%27%2C%20%27%23c39fa9ff%27%2C%20%27%23c39fa9ff%27%2C%20%27%23c39faaff%27%2C%20%27%23c3a0aaff%27%2C%20%27%23c2a0abff%27%2C%20%27%23c2a1abff%27%2C%20%27%23c2a1acff%27%2C%20%27%23c2a2acff%27%2C%20%27%23c2a2adff%27%2C%20%27%23c2a2adff%27%2C%20%27%23c1a3adff%27%2C%20%27%23c1a3aeff%27%2C%20%27%23c1a4aeff%27%2C%20%27%23c1a4afff%27%2C%20%27%23c1a5afff%27%2C%20%27%23c1a5b0ff%27%2C%20%27%23c0a6b0ff%27%2C%20%27%23c0a6b1ff%27%2C%20%27%23c0a6b1ff%27%2C%20%27%23c0a7b2ff%27%2C%20%27%23c0a7b2ff%27%2C%20%27%23c0a8b3ff%27%2C%20%27%23bfa8b3ff%27%2C%20%27%23bfa9b4ff%27%2C%20%27%23bfa9b4ff%27%2C%20%27%23bfa9b4ff%27%2C%20%27%23bfaab5ff%27%2C%20%27%23bfaab5ff%27%2C%20%27%23bfabb6ff%27%2C%20%27%23beabb6ff%27%2C%20%27%23beacb7ff%27%2C%20%27%23beacb7ff%27%2C%20%27%23beacb8ff%27%2C%20%27%23beadb8ff%27%2C%20%27%23beadb9ff%27%2C%20%27%23bdaeb9ff%27%2C%20%27%23bdaebaff%27%2C%20%27%23bdafbaff%27%2C%20%27%23bdafbaff%27%2C%20%27%23bdafbbff%27%2C%20%27%23bdb0bbff%27%2C%20%27%23bcb0bcff%27%2C%20%27%23bcb1bcff%27%2C%20%27%23bcb1bdff%27%2C%20%27%23bcb2bdff%27%2C%20%27%23bcb2beff%27%2C%20%27%23bcb3beff%27%2C%20%27%23bbb3bfff%27%2C%20%27%23bbb3bfff%27%2C%20%27%23bbb4c0ff%27%2C%20%27%23bbb4c0ff%27%2C%20%27%23bbb5c0ff%27%2C%20%27%23bbb5c1ff%27%2C%20%27%23bab6c1ff%27%2C%20%27%23bab6c2ff%27%2C%20%27%23bab6c2ff%27%2C%20%27%23bab7c3ff%27%2C%20%27%23bab7c3ff%27%2C%20%27%23bab8c4ff%27%2C%20%27%23b9b8c4ff%27%2C%20%27%23b9b9c5ff%27%2C%20%27%23b9b9c5ff%27%2C%20%27%23b9b9c6ff%27%2C%20%27%23b9bac6ff%27%2C%20%27%23b9bac6ff%27%2C%20%27%23b8bbc7ff%27%2C%20%27%23b8bbc7ff%27%2C%20%27%23b8bcc8ff%27%2C%20%27%23b8bcc8ff%27%2C%20%27%23b8bdc9ff%27%2C%20%27%23b8bdc9ff%27%2C%20%27%23b7bdcaff%27%2C%20%27%23b7becaff%27%2C%20%27%23b7becbff%27%2C%20%27%23b7bfcbff%27%2C%20%27%23b7bfccff%27%2C%20%27%23b7c0ccff%27%2C%20%27%23b6c0ccff%27%2C%20%27%23b6c0cdff%27%2C%20%27%23b6c1cdff%27%2C%20%27%23b6c1ceff%27%2C%20%27%23b6c2ceff%27%2C%20%27%23b6c2cfff%27%2C%20%27%23b5c3cfff%27%2C%20%27%23b5c3d0ff%27%2C%20%27%23b5c3d0ff%27%2C%20%27%23b5c4d1ff%27%2C%20%27%23b5c4d1ff%27%2C%20%27%23b5c5d2ff%27%2C%20%27%23b4c5d2ff%27%2C%20%27%23b4c6d3ff%27%2C%20%27%23b4c6d3ff%27%2C%20%27%23b4c7d3ff%27%2C%20%27%23b4c7d4ff%27%2C%20%27%23b4c7d4ff%27%2C%20%27%23b3c8d5ff%27%2C%20%27%23b3c8d5ff%27%2C%20%27%23b3c9d6ff%27%2C%20%27%23b3c9d6ff%27%2C%20%27%23b3cad7ff%27%2C%20%27%23b3cad7ff%27%2C%20%27%23b2cad8ff%27%2C%20%27%23b2cbd8ff%27%2C%20%27%23b2cbd9ff%27%2C%20%27%23b2ccd9ff%27%2C%20%27%23b2ccd9ff%27%2C%20%27%23b2cddaff%27%2C%20%27%23b1cddaff%27%2C%20%27%23b1cddbff%27%2C%20%27%23b1cedbff%27%2C%20%27%23b1cedcff%27%2C%20%27%23b1cfdcff%27%2C%20%27%23b1cfddff%27%2C%20%27%23b0d0ddff%27%2C%20%27%23b0d0deff%27%2C%20%27%23b0d1deff%27%2C%20%27%23b0d1dfff%27%2C%20%27%23b0d1dfff%27%2C%20%27%23b0d2dfff%27%2C%20%27%23afd2e0ff%27%2C%20%27%23afd3e0ff%27%2C%20%27%23afd3e1ff%27%2C%20%27%23afd4e1ff%27%2C%20%27%23afd4e2ff%27%2C%20%27%23afd4e2ff%27%2C%20%27%23aed5e3ff%27%2C%20%27%23aed5e3ff%27%2C%20%27%23aed6e4ff%27%2C%20%27%23aed6e4ff%27%2C%20%27%23aed7e5ff%27%2C%20%27%23aed7e5ff%27%2C%20%27%23aed7e5ff%27%2C%20%27%23add8e6ff%27%2C%20%27%23add8e6ff%27%5D%29%3B%0A%20%20%20%20%0A%0A%20%20%20%20color_map_239bc2adc955417188b9fbd94d7cd027.x%20%3D%20d3.scale.linear%28%29%0A%20%20%20%20%20%20%20%20%20%20%20%20%20%20.domain%28%5B90.0%2C%20100.0%5D%29%0A%20%20%20%20%20%20%20%20%20%20%20%20%20%20.range%28%5B0%2C%20400%5D%29%3B%0A%0A%20%20%20%20color_map_239bc2adc955417188b9fbd94d7cd027.legend%20%3D%20L.control%28%7Bposition%3A%20%27topright%27%7D%29%3B%0A%20%20%20%20color_map_239bc2adc955417188b9fbd94d7cd027.legend.onAdd%20%3D%20function%20%28map%29%20%7Bvar%20div%20%3D%20L.DomUtil.create%28%27div%27%2C%20%27legend%27%29%3B%20return%20div%7D%3B%0A%20%20%20%20color_map_239bc2adc955417188b9fbd94d7cd027.legend.addTo%28map_dafdb268ad50413b93ca7d6a32fe1738%29%3B%0A%0A%20%20%20%20color_map_239bc2adc955417188b9fbd94d7cd027.xAxis%20%3D%20d3.svg.axis%28%29%0A%20%20%20%20%20%20%20%20.scale%28color_map_239bc2adc955417188b9fbd94d7cd027.x%29%0A%20%20%20%20%20%20%20%20.orient%28%22top%22%29%0A%20%20%20%20%20%20%20%20.tickSize%281%29%0A%20%20%20%20%20%20%20%20.tickValues%28%5B90%2C%20100%5D%29%3B%0A%0A%20%20%20%20color_map_239bc2adc955417188b9fbd94d7cd027.svg%20%3D%20d3.select%28%22.legend.leaflet-control%22%29.append%28%22svg%22%29%0A%20%20%20%20%20%20%20%20.attr%28%22id%22%2C%20%27legend%27%29%0A%20%20%20%20%20%20%20%20.attr%28%22width%22%2C%20450%29%0A%20%20%20%20%20%20%20%20.attr%28%22height%22%2C%2040%29%3B%0A%0A%20%20%20%20color_map_239bc2adc955417188b9fbd94d7cd027.g%20%3D%20color_map_239bc2adc955417188b9fbd94d7cd027.svg.append%28%22g%22%29%0A%20%20%20%20%20%20%20%20.attr%28%22class%22%2C%20%22key%22%29%0A%20%20%20%20%20%20%20%20.attr%28%22transform%22%2C%20%22translate%2825%2C16%29%22%29%3B%0A%0A%20%20%20%20color_map_239bc2adc955417188b9fbd94d7cd027.g.selectAll%28%22rect%22%29%0A%20%20%20%20%20%20%20%20.data%28color_map_239bc2adc955417188b9fbd94d7cd027.color.range%28%29.map%28function%28d%2C%20i%29%20%7B%0A%20%20%20%20%20%20%20%20%20%20return%20%7B%0A%20%20%20%20%20%20%20%20%20%20%20%20x0%3A%20i%20%3F%20color_map_239bc2adc955417188b9fbd94d7cd027.x%28color_map_239bc2adc955417188b9fbd94d7cd027.color.domain%28%29%5Bi%20-%201%5D%29%20%3A%20color_map_239bc2adc955417188b9fbd94d7cd027.x.range%28%29%5B0%5D%2C%0A%20%20%20%20%20%20%20%20%20%20%20%20x1%3A%20i%20%3C%20color_map_239bc2adc955417188b9fbd94d7cd027.color.domain%28%29.length%20%3F%20color_map_239bc2adc955417188b9fbd94d7cd027.x%28color_map_239bc2adc955417188b9fbd94d7cd027.color.domain%28%29%5Bi%5D%29%20%3A%20color_map_239bc2adc955417188b9fbd94d7cd027.x.range%28%29%5B1%5D%2C%0A%20%20%20%20%20%20%20%20%20%20%20%20z%3A%20d%0A%20%20%20%20%20%20%20%20%20%20%7D%3B%0A%20%20%20%20%20%20%20%20%7D%29%29%0A%20%20%20%20%20%20.enter%28%29.append%28%22rect%22%29%0A%20%20%20%20%20%20%20%20.attr%28%22height%22%2C%2010%29%0A%20%20%20%20%20%20%20%20.attr%28%22x%22%2C%20function%28d%29%20%7B%20return%20d.x0%3B%20%7D%29%0A%20%20%20%20%20%20%20%20.attr%28%22width%22%2C%20function%28d%29%20%7B%20return%20d.x1%20-%20d.x0%3B%20%7D%29%0A%20%20%20%20%20%20%20%20.style%28%22fill%22%2C%20function%28d%29%20%7B%20return%20d.z%3B%20%7D%29%3B%0A%0A%20%20%20%20color_map_239bc2adc955417188b9fbd94d7cd027.g.call%28color_map_239bc2adc955417188b9fbd94d7cd027.xAxis%29.append%28%22text%22%29%0A%20%20%20%20%20%20%20%20.attr%28%22class%22%2C%20%22caption%22%29%0A%20%20%20%20%20%20%20%20.attr%28%22y%22%2C%2021%29%0A%20%20%20%20%20%20%20%20.text%28%27%27%29%3B%0A%3C/script%3E onload=\"this.contentDocument.open();this.contentDocument.write(    decodeURIComponent(this.getAttribute('data-html')));this.contentDocument.close();\" allowfullscreen webkitallowfullscreen mozallowfullscreen></iframe></div></div>"
      ],
      "text/plain": [
       "<folium.folium.Map at 0x7fb55ae20ad0>"
      ]
     },
     "metadata": {},
     "output_type": "display_data"
    }
   ],
   "source": [
    "colormap = cm.LinearColormap(colors=['red','lightblue'], index=[90,100], vmin=90, vmax=100)\n",
    "map = folium.Map([43.45, -7.87], zoom_start=14, tiles='CartoDB positron')\n",
    "for loc, p in zip(zip(lat, lon), preds):\n",
    "    folium.Circle(\n",
    "        location=loc,\n",
    "        radius=20,\n",
    "        fill=True,\n",
    "        color=colormap(p),\n",
    "    ).add_to(map)\n",
    "\n",
    "map.add_child(colormap)\n",
    "\n",
    "display(map)"
   ]
  },
  {
   "cell_type": "markdown",
   "id": "efcabd53-e81e-4d72-a453-e2fb6dcaa7ae",
   "metadata": {},
   "source": [
    "# Clean Up"
   ]
  },
  {
   "cell_type": "markdown",
   "id": "b002e48a-035c-4369-a161-aa2d800a70b2",
   "metadata": {},
   "source": [
    "To avoid incurring charges to your Google Cloud account for the resources used in this tutorial, either delete the project that contains the resources, or keep the project and delete the individual resources."
   ]
  },
  {
   "cell_type": "markdown",
   "id": "9fc97850-80dd-4c24-80d0-f93825d96e0e",
   "metadata": {},
   "source": [
    "## Deleting the project\n",
    "\n",
    "The easiest way to eliminate billing is to delete the project that you created for the tutorial.\n",
    "\n",
    "To delete the project:\n",
    "\n",
    "> ⚠️ Deleting a project has the following effects:\n",
    ">\n",
    "> * **Everything in the project is deleted.** If you used an existing project for this tutorial, when you delete it, you also delete any other work you've done in the project.\n",
    ">\n",
    "> * **Custom project IDs are lost.** When you created this project, you might have created a custom project ID that you want to use in the future. To preserve the URLs that use the project ID, such as an appspot.com URL, delete selected resources inside the project instead of deleting the whole project.\n",
    ">\n",
    "> If you plan to explore multiple tutorials and quickstarts, reusing projects can help you avoid exceeding project quota limits.\n",
    "\n",
    "1. In the Cloud Console, go to the **Manage resources** page.\n",
    "\n",
    "  <button>\n",
    "\n",
    "  [Go to Manage resources](https://console.cloud.google.com/iam-admin/projects)\n",
    "\n",
    "  </button>\n",
    "\n",
    "1. In the project list, select the project that you want to delete, and then click **Delete**.\n",
    "\n",
    "1. In the dialog, type the project ID, and then click **Shut down** to delete the project."
   ]
  },
  {
   "cell_type": "code",
   "execution_count": null,
   "id": "d7c1c51a-ef84-4645-91ae-b997e1643170",
   "metadata": {},
   "outputs": [],
   "source": []
  }
 ],
 "metadata": {
  "environment": {
   "kernel": "python3",
   "name": "tf2-gpu.2-6.m82",
   "type": "gcloud",
   "uri": "gcr.io/deeplearning-platform-release/tf2-gpu.2-6:m82"
  },
  "kernelspec": {
   "display_name": "Python 3",
   "language": "python",
   "name": "python3"
  },
  "language_info": {
   "codemirror_mode": {
    "name": "ipython",
    "version": 3
   },
   "file_extension": ".py",
   "mimetype": "text/x-python",
   "name": "python",
   "nbconvert_exporter": "python",
   "pygments_lexer": "ipython3",
   "version": "3.6.8"
  }
 },
 "nbformat": 4,
 "nbformat_minor": 5
}
