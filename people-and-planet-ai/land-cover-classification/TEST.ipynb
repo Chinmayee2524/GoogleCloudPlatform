{
 "cells": [
  {
   "cell_type": "code",
   "execution_count": null,
   "metadata": {},
   "outputs": [],
   "source": [
    "!pip install -r https://raw.githubusercontent.com/GoogleCloudPlatform/python-docs-samples/main/people-and-planet-ai/land-cover-classification/requirements.txt"
   ]
  },
  {
   "cell_type": "code",
   "execution_count": null,
   "metadata": {},
   "outputs": [],
   "source": [
    "#@title My Google Cloud resources\n",
    "project = \"\" #@param {type:\"string\"}\n",
    "bucket = \"\" #@param {type:\"string\"}\n",
    "location = \"us-central1\" #@param {type:\"string\"}\n",
    "\n",
    "# Load resources from environment variables if available\n",
    "import os\n",
    "project = os.environ.get('GOOGLE_CLOUD_PROJECT', project)\n",
    "bucket = os.environ.get('CLOUD_STORAGE_BUCKET', bucket)\n",
    "location = os.environ.get('CLOUD_LOCATION', location)\n",
    "\n",
    "# Quick input validations\n",
    "assert project, '⚠️ Please provide a Google Cloud project ID'\n",
    "assert bucket, '⚠️ Please provide a Cloud Storage bucket name'\n",
    "assert not bucket.startswith('gs://'), f'⚠️ Please remove the gs:// prefix from the bucket name: {bucket}'\n",
    "assert location, '⚠️ Please provide a Google Cloud location'\n",
    "\n",
    "# Authenticate\n",
    "from google.colab import auth\n",
    "auth.authenticate_user()"
   ]
  },
  {
   "cell_type": "code",
   "execution_count": null,
   "metadata": {},
   "outputs": [],
   "source": [
    "import ee\n",
    "import google.auth\n",
    "\n",
    "credentials, _ = google.auth.default()\n",
    "ee.Initialize(credentials, project=project)"
   ]
  },
  {
   "cell_type": "code",
   "execution_count": null,
   "metadata": {},
   "outputs": [],
   "source": [
    "CLASSIFICATIONS = {\n",
    "    '💧 Water':              '449cda',\n",
    "    '🌳 Trees':              '3d7c49',\n",
    "    '🌾 Grass':              '8ab052',\n",
    "    '🌿 Flooded vegetation': '7c86c7',\n",
    "    '🚜 Crops':              'e19832',\n",
    "    '🪴 Shrub and scrub':    'dfc35b',\n",
    "    '🏗️ Built-up areas':     'c52918',\n",
    "    '🪨 Bare ground':        'a29d90',\n",
    "    '❄️ Snow and ice':       'b4a0e0',\n",
    "}\n",
    "PALETTE = list(CLASSIFICATIONS.values())\n",
    "\n",
    "def display_legend(classifications):\n",
    "  reset_color = '\\u001b[0m'\n",
    "  colored = lambda red, green, blue: f\"\\033[48;2;{red};{green};{blue}m\"\n",
    "  for name, color in classifications.items():\n",
    "    red   = int(color[0:2], 16)\n",
    "    green = int(color[2:4], 16)\n",
    "    blue  = int(color[4:6], 16)\n",
    "    print(f\"{colored(red, green, blue)}   {reset_color} {name}\")\n",
    "\n",
    "display_legend(CLASSIFICATIONS)"
   ]
  },
  {
   "cell_type": "code",
   "execution_count": null,
   "metadata": {},
   "outputs": [],
   "source": [
    "import folium\n",
    "\n",
    "import export_data\n",
    "\n",
    "sentinel2_image = export_data.get_sentinel2_image('2020-1-1', '2021-01-1')\n",
    "\n",
    "vis_params = {\n",
    "  'min': 0,\n",
    "  'max': 3000,\n",
    "  'bands': ['B4', 'B3', 'B2'],\n",
    "}\n",
    "folium.Map(\n",
    "    location=[38.6561723, -9.0624997],\n",
    "    zoom_start=12,\n",
    "    tiles=sentinel2_image.getMapId(vis_params)['tile_fetcher'].url_format,\n",
    "    attr='Map Data &copy; <a href=\"https://earthengine.google.com/\">Google Earth Engine</a>',\n",
    ")"
   ]
  },
  {
   "cell_type": "code",
   "execution_count": null,
   "metadata": {},
   "outputs": [],
   "source": [
    "import folium\n",
    "\n",
    "import export_data\n",
    "\n",
    "landcover_image = export_data.get_landcover_image()\n",
    "\n",
    "vis_params = {\n",
    "  'bands': ['landcover'],\n",
    "  'palette': PALETTE,\n",
    "}\n",
    "folium.Map(\n",
    "    location=[38.6561723, -9.0624997],\n",
    "    zoom_start=12,\n",
    "    tiles=landcover_image.getMapId(vis_params)['tile_fetcher'].url_format,\n",
    "    attr='Map Data &copy; <a href=\"https://earthengine.google.com/\">Google Earth Engine</a>',\n",
    ")"
   ]
  },
  {
   "cell_type": "code",
   "execution_count": null,
   "metadata": {},
   "outputs": [],
   "source": [
    "#@title\n",
    "points_per_class = 10  #@param {type:\"integer\"}\n",
    "padding = 15  #@param {type:\"integer\"}\n",
    "\n",
    "# Load from environment variables if available\n",
    "points_per_class = int(os.environ.get('POINTS_PER_CLASS', points_per_class))\n",
    "padding = int(os.environ.get('PADDING', padding))"
   ]
  },
  {
   "cell_type": "code",
   "execution_count": null,
   "metadata": {},
   "outputs": [],
   "source": [
    "import export_data\n",
    "\n",
    "export_data.run(\n",
    "    bucket=bucket,\n",
    "    training_prefix=\"land-cover/training\",\n",
    "    validation_prefix=\"land-cover/validation\",\n",
    "    points_per_class=points_per_class,\n",
    "    padding=padding,\n",
    ")"
   ]
  },
  {
   "cell_type": "code",
   "execution_count": null,
   "metadata": {},
   "outputs": [],
   "source": [
    "import tensorflow as tf\n",
    "\n",
    "filename = f\"gs://{bucket}/land-cover/training.tfrecord.gz\"\n",
    "dataset = tf.data.TFRecordDataset(filename, compression_type='GZIP') \n",
    "for x in dataset.take(1):\n",
    "  example = tf.train.Example()\n",
    "  example.ParseFromString(x.numpy())\n",
    "  for _, feature in example.ListFields():\n",
    "    for _, field in feature.ListFields():\n",
    "      for name, values in sorted(field.items()):\n",
    "        print(f\"{name}: float[{len(values.float_list.value)}]\")"
   ]
  }
 ],
 "metadata": {
  "language_info": {
   "name": "python"
  },
  "orig_nbformat": 4
 },
 "nbformat": 4,
 "nbformat_minor": 2
}
