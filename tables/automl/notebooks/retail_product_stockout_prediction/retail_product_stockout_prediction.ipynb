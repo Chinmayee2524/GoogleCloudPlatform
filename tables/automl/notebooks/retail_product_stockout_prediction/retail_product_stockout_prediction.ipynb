{
 "cells": [
  {
   "cell_type": "markdown",
   "metadata": {
    "colab_type": "text",
    "id": "9V5sA5glWemD"
   },
   "source": [
    "Copyright 2018 Google LLC \n",
    "\n",
    "Licensed under the Apache License, Version 2.0 (the \"License\");\n",
    "you may not use this file except in compliance with the License.\n",
    "You may obtain a copy of the License at\n",
    "\n",
    "http://www.apache.org/licenses/LICENSE-2.0\n",
    "\n",
    "Unless required by applicable law or agreed to in writing, software\n",
    "distributed under the License is distributed on an \"AS IS\" BASIS,\n",
    "WITHOUT WARRANTIES OR CONDITIONS OF ANY KIND, either express or implied.\n",
    "See the License for the specific language governing permissions and limitations under the License."
   ]
  },
  {
   "cell_type": "markdown",
   "metadata": {
    "colab_type": "text",
    "id": "m26YhtBMvVWA"
   },
   "source": [
    "# Retail Product Stockouts Prediction using AutoML Tables\n",
    "\n",
    "AutoML Tables enables you to build machine learning models based on tables of your own data and host them on Google Cloud for scalability. This solution demonstrates how you can use AutoML Tables to solve a product stockouts problem in the retail industry. This problem is solved using a binary classification approach, which predicts whether a particular product at a certain store will be out-of-stock or not in the next four weeks. Once the solution is built, you can plug this in with your production system and proactively predict stock-outs for your business. \n",
    "\n",
    "To use this Colab notebook, copy it to your own Google Drive and open it with [Colaboratory](https://colab.research.google.com/) (or Colab). To run a cell hold the Shift key and press the Enter key (or Return key). Colab automatically displays the return value of the last line in each cell. Refer to [this page](https://colab.research.google.com/notebooks/welcome.ipynb) for more information on Colab.\n",
    "\n",
    "You can run a Colab notebook on a hosted runtime in the Cloud. The hosted VM times out after 90 minutes of inactivity and you will lose all the data stored in the memory including your authentication data. If your session gets disconnected (for example, because you closed your laptop) for less than the 90 minute inactivity timeout limit, press 'RECONNECT' on the top right corner of your notebook and resume the session. After Colab timeout, you'll need to\n",
    "\n",
    "1.   Re-run the initialization and authentication.\n",
    "2.   Continue from where you left off. You may need to copy-paste the value of some variables such as the `dataset_name` from the printed output of the previous cells.\n",
    "\n",
    "Alternatively you can connect your Colab notebook to a [local runtime](https://research.google.com/colaboratory/local-runtimes.html)."
   ]
  },
  {
   "cell_type": "markdown",
   "metadata": {
    "colab_type": "text",
    "id": "b--5FDDwCG9C"
   },
   "source": [
    "## 1. Project set up\n",
    "\n",
    "\n",
    "\n"
   ]
  },
  {
   "cell_type": "markdown",
   "metadata": {
    "colab_type": "text",
    "id": "AZs0ICgy4jkQ"
   },
   "source": [
    "Follow the [AutoML Tables documentation](https://cloud.google.com/automl-tables/docs/) to\n",
    "* Create a Google Cloud Platform (GCP) project.\n",
    "* Enable billing.\n",
    "* Apply to whitelist your project.\n",
    "* Enable AutoML API.\n",
    "* Enable AutoML Talbes API.\n",
    "* Create a service account, grant required permissions, and download the service account private key.\n",
    "\n",
    "You also need to upload your data into Google Cloud Storage (GCS) or BigQuery. For example, to use GCS as your data source\n",
    "* Create a GCS bucket.\n",
    "* Upload the training and batch prediction files.\n",
    "\n",
    "\n",
    "**Warning:** Private keys must be kept secret. If you expose your private key it is recommended to revoke it immediately from the Google Cloud Console."
   ]
  },
  {
   "cell_type": "markdown",
   "metadata": {
    "colab_type": "text",
    "id": "xZECt1oL429r"
   },
   "source": [
    "\n",
    "\n",
    "---\n",
    "\n"
   ]
  },
  {
   "cell_type": "markdown",
   "metadata": {
    "colab_type": "text",
    "id": "rstRPH9SyZj_"
   },
   "source": [
    "## 2. Initialize and authenticate\n",
    "This section runs intialization and authentication. It creates an authenticated session which is required for running any of the following sections."
   ]
  },
  {
   "cell_type": "markdown",
   "metadata": {
    "colab_type": "text",
    "id": "BR0POq2UzE7e"
   },
   "source": [
    "### Install the client library in Colab\n",
    "Run the following cell to install the client libary using `pip`.\n",
    "\n",
    "See [documentations ](https://cloud.google.com/automl-tables/docs/client-libraries) of Google Cloud AutoML Client Library for Python. \n"
   ]
  },
  {
   "cell_type": "code",
   "execution_count": 0,
   "metadata": {
    "colab": {},
    "colab_type": "code",
    "id": "43aXKjDRt_qZ"
   },
   "outputs": [],
   "source": [
    "#@title Install AutoML Tables client library { vertical-output: true }\n",
    "\n",
    "!pip install google-cloud-automl"
   ]
  },
  {
   "cell_type": "markdown",
   "metadata": {
    "colab_type": "text",
    "id": "0uX4aJYUiXh5"
   },
   "source": [
    "Enter your GCP project ID."
   ]
  },
  {
   "cell_type": "code",
   "execution_count": 0,
   "metadata": {
    "colab": {},
    "colab_type": "code",
    "id": "6R4h5HF1Dtds"
   },
   "outputs": [],
   "source": [
    "#@title GCP project ID and location\n",
    "\n",
    "project_id = '<PROJECT_ID>' #@param {type:'string'}\n",
    "location = 'us-central1'\n",
    "location_path = client.location_path(project_id, location)\n",
    "location_path"
   ]
  },
  {
   "cell_type": "markdown",
   "metadata": {
    "colab_type": "text",
    "id": "eVFsPPEociwF"
   },
   "source": [
    "### Authenticate using service account key\n",
    "Run the following cell. Click on the __Choose Files__ button and select the service account private key file. If your Service Account Key file or folder is hidden, you can reveal it in a Mac by pressing the __Command + Shift + .__ combo.\n",
    "\n"
   ]
  },
  {
   "cell_type": "code",
   "execution_count": 0,
   "metadata": {
    "colab": {},
    "colab_type": "code",
    "id": "u-kCqysAuaJk"
   },
   "outputs": [],
   "source": [
    "#@title Authenticate using service account key and create a client. { vertical-output: true }\n",
    "\n",
    "from google.colab import files\n",
    "from google.cloud import automl_v1beta1\n",
    "from google.oauth2 import service_account\n",
    "\n",
    "# Upload service account key\n",
    "keyfile_upload = files.upload()\n",
    "keyfile_name = list(keyfile_upload.keys())[0]\n",
    "\n",
    "# Authenticate and create an AutoML client.\n",
    "client = automl_v1beta1.TablesClient(\n",
    "    project=project_id,\n",
    "    region=region,\n",
    "    credentials=service_account.Credentials.from_service_account_file(keyfile_name)\n",
    ")"
   ]
  },
  {
   "cell_type": "markdown",
   "metadata": {
    "colab_type": "text",
    "id": "rUlBcZ3OfWcJ"
   },
   "source": [
    "To test whether your project set up and authentication steps were successful, run the following cell to list your datasets in this project.\n",
    "\n",
    "If no dataset has previously imported into AutoML Tables, you shall expect an empty return."
   ]
  },
  {
   "cell_type": "code",
   "execution_count": 0,
   "metadata": {
    "cellView": "both",
    "colab": {},
    "colab_type": "code",
    "id": "sf32nKXIqYje"
   },
   "outputs": [],
   "source": [
    "#@title List datasets. { vertical-output: true }\n",
    "\n",
    "list_datasets_response = client.list_datasets()\n",
    "datasets = {dataset.display_name: dataset.name for dataset in list_datasets_response}\n",
    "datasets"
   ]
  },
  {
   "cell_type": "markdown",
   "metadata": {
    "colab_type": "text",
    "id": "t9uE8MvMkOPd"
   },
   "source": [
    "You can also print the list of your models by running the following cell.\n",
    "\n",
    "If no model has previously trained using AutoML Tables, you shall expect an empty return."
   ]
  },
  {
   "cell_type": "code",
   "execution_count": 0,
   "metadata": {
    "cellView": "both",
    "colab": {},
    "colab_type": "code",
    "id": "j4-bYRSWj7xk"
   },
   "outputs": [],
   "source": [
    "#@title List models. { vertical-output: true }\n",
    "\n",
    "list_models_response = client.list_models()\n",
    "models = {model.display_name: model.name for model in list_models_response}\n",
    "models"
   ]
  },
  {
   "cell_type": "markdown",
   "metadata": {
    "colab_type": "text",
    "id": "qozQWMnOu48y"
   },
   "source": [
    "\n",
    "\n",
    "---\n",
    "\n"
   ]
  },
  {
   "cell_type": "markdown",
   "metadata": {
    "colab_type": "text",
    "id": "ODt86YuVDZzm"
   },
   "source": [
    "## 3. Import training data"
   ]
  },
  {
   "cell_type": "markdown",
   "metadata": {
    "colab_type": "text",
    "id": "XwjZc9Q62Fm5"
   },
   "source": [
    "### Create dataset"
   ]
  },
  {
   "cell_type": "markdown",
   "metadata": {
    "colab_type": "text",
    "id": "_JfZFGSceyE_"
   },
   "source": [
    "Select a dataset display name and pass your table source information to create a new dataset."
   ]
  },
  {
   "cell_type": "code",
   "execution_count": 0,
   "metadata": {
    "colab": {},
    "colab_type": "code",
    "id": "Z_JErW3cw-0J"
   },
   "outputs": [],
   "source": [
    "#@title Create dataset { vertical-output: true, output-height: 200 }\n",
    "\n",
    "dataset_display_name = 'stockout_data' #@param {type: 'string'}\n",
    "\n",
    "dataset = client.create_dataset(dataset_display_name)\n",
    "dataset"
   ]
  },
  {
   "cell_type": "markdown",
   "metadata": {
    "colab_type": "text",
    "id": "35YZ9dy34VqJ"
   },
   "source": [
    "### Import data"
   ]
  },
  {
   "cell_type": "markdown",
   "metadata": {
    "colab_type": "text",
    "id": "3c0o15gVREAw"
   },
   "source": [
    "You can import your data to AutoML Tables from GCS or BigQuery. For this solution, you will import data from a BigQuery Table. The URI for your table is in the format of `bq://PROJECT_ID.DATASET_ID.TABLE_ID`.\n",
    "\n",
    "The BigQuery Table used for demonstration purpose can be accessed as `bq://product-stockout.product_stockout.stockout`. \n",
    "\n",
    "See the table schema and dataset description from the README. "
   ]
  },
  {
   "cell_type": "code",
   "execution_count": 0,
   "metadata": {
    "colab": {},
    "colab_type": "code",
    "id": "bB_GdeqCJW5i"
   },
   "outputs": [],
   "source": [
    "#@title ... if data source is BigQuery { vertical-output: true }\n",
    "\n",
    "dataset_bigquery_input_uri = 'bq://product-stockout.product_stockout.stockout' #@param {type: 'string'}"
   ]
  },
  {
   "cell_type": "code",
   "execution_count": 0,
   "metadata": {
    "colab": {},
    "colab_type": "code",
    "id": "FNVYfpoXJsNB"
   },
   "outputs": [],
   "source": [
    " #@title Import data { vertical-output: true }\n",
    "\n",
    "import_data_response = client.import_data(dataset=dataset, \n",
    "                                          bigquery_input_uri=dataset_bigquery_input_uri)\n",
    "print('Dataset import operation: {}'.format(import_data_response.operation))"
   ]
  },
  {
   "cell_type": "code",
   "execution_count": 0,
   "metadata": {
    "colab": {},
    "colab_type": "code",
    "id": "1O7tJ8IlefRC"
   },
   "outputs": [],
   "source": [
    " #@title Check if importing the data is complete { vertical-output: true }\n",
    "\n",
    "# If returns `False`, you can check back again later.\n",
    "# Continue with the rest only if this cell returns a `True`.\n",
    "import_data_response.done()"
   ]
  },
  {
   "cell_type": "markdown",
   "metadata": {
    "colab_type": "text",
    "id": "_WLvyGIDe9ah"
   },
   "source": [
    "Importing this stockout datasets takes about 10 minutes. \n",
    "\n",
    "If you re-visit this Colab, uncomment the following cell and run the command to retrieve your dataset."
   ]
  },
  {
   "cell_type": "code",
   "execution_count": 0,
   "metadata": {
    "colab": {},
    "colab_type": "code",
    "id": "P6NkRMyJfAGm"
   },
   "outputs": [],
   "source": [
    "# dataset = client.get_dataset(dataset_display_name=dataset_display_name) "
   ]
  },
  {
   "cell_type": "markdown",
   "metadata": {
    "colab_type": "text",
    "id": "QdxBI4s44ZRI"
   },
   "source": [
    "### Review the specs"
   ]
  },
  {
   "cell_type": "markdown",
   "metadata": {
    "colab_type": "text",
    "id": "RC0PWKqH4jwr"
   },
   "source": [
    "Run the following command to see table specs such as row count."
   ]
  },
  {
   "cell_type": "code",
   "execution_count": 0,
   "metadata": {
    "colab": {},
    "colab_type": "code",
    "id": "v2Vzq_gwXxo-"
   },
   "outputs": [],
   "source": [
    "#@title Table schema { vertical-output: true }\n",
    "\n",
    "import google.cloud.automl_v1beta1.proto.data_types_pb2 as data_types\n",
    "import matplotlib.pyplot as plt\n",
    "\n",
    "# List table specs\n",
    "list_table_specs_response = client.list_table_specs(dataset=dataset)\n",
    "table_specs = [s for s in list_table_specs_response]\n",
    "# List column specs\n",
    "list_column_specs_response = client.list_column_specs(dataset=dataset)\n",
    "column_specs = {s.display_name: s for s in list_column_specs_response}\n",
    "# Table schema pie chart.\n",
    "type_counts = {}\n",
    "for column_spec in column_specs.values():\n",
    "  type_name = data_types.TypeCode.Name(column_spec.data_type.type_code)\n",
    "  type_counts[type_name] = type_counts.get(type_name, 0) + 1\n",
    "\n",
    "plt.pie(x=type_counts.values(), labels=type_counts.keys(), autopct='%1.1f%%')\n",
    "plt.axis('equal')\n",
    "plt.show()\n"
   ]
  },
  {
   "cell_type": "markdown",
   "metadata": {
    "colab_type": "text",
    "id": "Lqjq4X43v3ON"
   },
   "source": [
    "In the pie chart above, you see this dataset contains three variable types: `FLOAT64` (treated as `Numeric`), `CATEGORY` (treated as `Categorical`) and `STRING` (treated as `Text`). "
   ]
  },
  {
   "cell_type": "markdown",
   "metadata": {
    "colab_type": "text",
    "id": "FNykW_YOYt6d"
   },
   "source": [
    "___"
   ]
  },
  {
   "cell_type": "markdown",
   "metadata": {
    "colab_type": "text",
    "id": "kNRVJqVOL8h3"
   },
   "source": [
    "## 4. Update dataset: assign a label column and enable nullable columns"
   ]
  },
  {
   "cell_type": "markdown",
   "metadata": {
    "colab_type": "text",
    "id": "VsOPwxN9fOIl"
   },
   "source": [
    "### Get column specs"
   ]
  },
  {
   "cell_type": "markdown",
   "metadata": {
    "colab_type": "text",
    "id": "-57gehId9PQ5"
   },
   "source": [
    "AutoML Tables automatically detects your data column type. \n",
    "\n",
    "There are a total of 120 columns in this stockout dataset.\n",
    "\n",
    "Run the following command to check the column data type that automaticallyed detected. If columns contains only numerical values, but they represent categories, change that column data type to caregorical by updating your schema.\n",
    "\n",
    "In addition, AutoML Tables detects `Stockout` to be categorical that chooses to run a classification model.  "
   ]
  },
  {
   "cell_type": "code",
   "execution_count": 0,
   "metadata": {
    "colab": {},
    "colab_type": "code",
    "id": "Pyku3AHEfSp4"
   },
   "outputs": [],
   "source": [
    "#@title List table specs { vertical-output: true }\n",
    "\n",
    "list_table_specs_response = client.list_table_specs(dataset=dataset)\n",
    "table_specs = [s for s in list_table_specs_response]\n",
    "table_specs"
   ]
  },
  {
   "cell_type": "code",
   "execution_count": 0,
   "metadata": {
    "colab": {},
    "colab_type": "code",
    "id": "jso_JBI9fgy6"
   },
   "outputs": [],
   "source": [
    "#@title Check column data type { vertical-output: true }\n",
    "\n",
    "# Get column specs.\n",
    "table_spec_name = table_specs[0].name\n",
    "list_column_specs_response = client.list_column_specs(dataset=dataset)\n",
    "column_specs = {s.display_name: s for s in list_column_specs_response}\n",
    "\n",
    "# Print column data types.\n",
    "for column in column_specs:\n",
    "    print(column, '-', column_specs[column].data_type)"
   ]
  },
  {
   "cell_type": "markdown",
   "metadata": {
    "colab_type": "text",
    "id": "iRqdQ7Xiq04x"
   },
   "source": [
    "### Update columns: make categorical\n",
    "\n",
    "From the column data type, you noticed `Item_Number`, `Category`, `Vendor_Number`, `Store_Number`, `Zip_Code` and `County_Number` have been autodetected as `FLOAT64` (Numerical) instead of `CATEGORY` (Categorical). \n",
    "\n",
    "In this solution, the columns `Item_Number`, `Category`, `Vendor_Number` and `Store_Number` are not nullable, but `Zip_Code` and `County_Number` can take null values.\n",
    "\n",
    "To change the data type, you can update the schema by updating the column spec.\n",
    "\n",
    "`update_column_response = client.update_column_spec(update_column_spec_dict)`"
   ]
  },
  {
   "cell_type": "code",
   "execution_count": 0,
   "metadata": {
    "colab": {},
    "colab_type": "code",
    "id": "_xePITEYf5po"
   },
   "outputs": [],
   "source": [
    "# Update dataset\n",
    "categorical_column_names = ['Item_Number',\n",
    "                        'Category',\n",
    "                        'Vendor_Number',\n",
    "                        'Store_Number',\n",
    "                        'Zip_Code',\n",
    "                        'County_Number']\n",
    "is_nullable = [False, \n",
    "              False,\n",
    "              False,\n",
    "              False,\n",
    "              True,\n",
    "              True]\n",
    "\n",
    "for i in range(len(categorical_column_names)):\n",
    "    column_name = categorical_column_names[i]\n",
    "    nullable = is_nullable[i]\n",
    "    client.update_column_spec(\n",
    "        dataset=dataset,\n",
    "        column_spec_display_name=column_name,\n",
    "        type_code='CATEGORY',\n",
    "        nullable=nullable\n",
    "    )"
   ]
  },
  {
   "cell_type": "markdown",
   "metadata": {
    "colab_type": "text",
    "id": "nDMH_chybe4w"
   },
   "source": [
    "### Update dataset: assign a label\n",
    "\n",
    "Select the label column and update the dataset."
   ]
  },
  {
   "cell_type": "code",
   "execution_count": 0,
   "metadata": {
    "colab": {},
    "colab_type": "code",
    "id": "hVIruWg0u33t"
   },
   "outputs": [],
   "source": [
    "#@title Update dataset { vertical-output: true }\n",
    "\n",
    "label_column_name = 'Stockout' #@param {type: 'string'}\n",
    "client.set_target_column(dataset=dataset, \n",
    "                         column_spec_display_name=label_column_name)"
   ]
  },
  {
   "cell_type": "markdown",
   "metadata": {
    "colab_type": "text",
    "id": "z23NITLrcxmi"
   },
   "source": [
    "___"
   ]
  },
  {
   "cell_type": "markdown",
   "metadata": {
    "colab_type": "text",
    "id": "FcKgvj1-Tbgj"
   },
   "source": [
    "## 5. Creating a model"
   ]
  },
  {
   "cell_type": "markdown",
   "metadata": {
    "colab_type": "text",
    "id": "Pnlk8vdQlO_k"
   },
   "source": [
    "### Train a model\n",
    "Training the model may take one hour or more. To obtain the results with less training time or budget, you can set [`train_budget_milli_node_hours`](https://cloud.google.com/automl-tables/docs/reference/rest/v1beta1/projects.locations.models), which is the train budget of creating this model, expressed in milli node hours i.e. 1,000 value in this field means 1 node hour. \n",
    "\n",
    "For demonstration purpose, the following command sets the budget as 1 node hour. You can increate that number up to a maximum of 72 hours ('train_budget_milli_node_hours': 72000) for the best model performance. \n",
    "\n",
    "You can also select the objective to optimize your model training by setting `optimization_objective`. This solution optimizes the model by maximizing the Area Under the Precision-Recall (PR) Curve.  \n"
   ]
  },
  {
   "cell_type": "code",
   "execution_count": 0,
   "metadata": {
    "colab": {},
    "colab_type": "code",
    "id": "11izNd6Fu37N"
   },
   "outputs": [],
   "source": [
    "#@title Create model { vertical-output: true }\n",
    "\n",
    "feature_list = list(column_specs.keys())\n",
    "feature_list.remove('Stockout')\n",
    "\n",
    "model_display_name = 'stockout_model' #@param {type:'string'}\n",
    "\n",
    "create_model_response = client.create_model(model_display_name,\n",
    "                                            dataset=dataset,\n",
    "                                            optimization_objective='MAXIMIZE_AU_PRC',\n",
    "                                            train_budget_milli_node_hours=1000)\n",
    "print('Dataset import operation: {}'.format(create_model_response.operation))"
   ]
  },
  {
   "cell_type": "code",
   "execution_count": 0,
   "metadata": {
    "colab": {},
    "colab_type": "code",
    "id": "wCQdx9VyhKY5"
   },
   "outputs": [],
   "source": [
    "#@title Check if model training is complete { vertical-output: true }\n",
    "# If returns `False`, you can check back again later.\n",
    "# Continue with the rest only if this cell returns a `True`.\n",
    "create_model_response.done()"
   ]
  },
  {
   "cell_type": "code",
   "execution_count": 0,
   "metadata": {
    "colab": {},
    "colab_type": "code",
    "id": "bPiR8zMwhQYO"
   },
   "outputs": [],
   "source": [
    "#@title Retrieve the model { vertical-output: true }\n",
    "model = create_model_response.result()\n",
    "model"
   ]
  },
  {
   "cell_type": "markdown",
   "metadata": {
    "colab_type": "text",
    "id": "neYjToB36q9E"
   },
   "source": [
    "If your Colab times out, use `client.list_models(location_path)` to check whether your model has been created. \n",
    "\n",
    "Then uncomment the following cell and run the command to retrieve your model."
   ]
  },
  {
   "cell_type": "code",
   "execution_count": 0,
   "metadata": {
    "colab": {},
    "colab_type": "code",
    "id": "QptCwUIK7yhU"
   },
   "outputs": [],
   "source": [
    "# model = client.get_model(model_display_name=model_display_name)"
   ]
  },
  {
   "cell_type": "markdown",
   "metadata": {
    "colab_type": "text",
    "id": "1wS1is9IY5nK"
   },
   "source": [
    "___"
   ]
  },
  {
   "cell_type": "markdown",
   "metadata": {
    "colab_type": "text",
    "id": "TarOq84-GXch"
   },
   "source": [
    "## 6. Batch prediction"
   ]
  },
  {
   "cell_type": "markdown",
   "metadata": {
    "colab_type": "text",
    "id": "Soy5OB8Wbp_R"
   },
   "source": [
    "### Initialize prediction"
   ]
  },
  {
   "cell_type": "markdown",
   "metadata": {
    "colab_type": "text",
    "id": "39bIGjIlau5a"
   },
   "source": [
    "Your data source for batch prediction can be GCS or BigQuery. For this solution, you will use a BigQuery Table as the input source. The URI for your table is in the format of `bq://PROJECT_ID.DATASET_ID.TABLE_ID`.\n",
    "\n",
    "To write out the predictions, you need to specify a GCS bucket `gs://BUCKET_NAME`.\n",
    "\n",
    "The AutoML Tables logs the errors in the `errors.csv` file.\n",
    "\n",
    "**NOTE:** The batch prediction output file(s) will be updated to the GCS bucket that you set in the preceding cells."
   ]
  },
  {
   "cell_type": "code",
   "execution_count": 0,
   "metadata": {
    "colab": {},
    "colab_type": "code",
    "id": "gkF3bH0qu4DU"
   },
   "outputs": [],
   "source": [
    "#@title Start batch prediction { vertical-output: true, output-height: 200 }\n",
    "\n",
    "batch_predict_bq_input_uri = 'bq://product-stockout.product_stockout.batch_prediction_inputs'\n",
    "batch_predict_gcs_output_uri_prefix = 'gs://<BUCKET_NAME>'  #@param {type:'string'}\n",
    "\n",
    "batch_predict_response = prediction_client.batch_predict(\n",
    "    model=model,\n",
    "    bigquery_input_uri=batch_predict_bq_input_uri,\n",
    "    gcs_output_uri_prefix=batch_predict_gcs_output_uri_prefix\n",
    ")\n",
    "\n",
    "print('Batch prediction operation: {}'.format(batch_predict_response.operation))"
   ]
  },
  {
   "cell_type": "code",
   "execution_count": 0,
   "metadata": {
    "colab": {},
    "colab_type": "code",
    "id": "AVJhh_k0PfxD"
   },
   "outputs": [],
   "source": [
    "#@title Check if batch prediction is complete { vertical-output: true }\n",
    "\n",
    "# If returns `False`, you can check back again later.\n",
    "# Continue with the rest only if this cell returns a `True`.\n",
    "batch_predict_response.done()"
   ]
  },
  {
   "cell_type": "code",
   "execution_count": 0,
   "metadata": {
    "colab": {},
    "colab_type": "code",
    "id": "8nr5q2M8W2VX"
   },
   "outputs": [],
   "source": [
    "#@title Retrieve batch prediction metadata { vertical-output: true }\n",
    "\n",
    "batch_predict_response.metadata"
   ]
  },
  {
   "cell_type": "code",
   "execution_count": 0,
   "metadata": {
    "colab": {},
    "colab_type": "code",
    "id": "kgwbJwS2iLpc"
   },
   "outputs": [],
   "source": [
    "#@title Check prediction results { vertical-output: true }\n",
    "\n",
    "gcs_output_directory = batch_predict_response.metadata.batch_predict_details.output_info.gcs_output_directory\n",
    "result_file = gcs_output_directory + '/result.csv'\n",
    "print('Batch prediction results are stored as: {}'.format(result_file))"
   ]
  }
 ],
 "metadata": {
  "colab": {
   "collapsed_sections": [],
   "name": "retail_product_stockout_prediction.ipynb",
   "provenance": [],
   "version": "0.3.2"
  },
  "kernelspec": {
   "display_name": "Python 3",
   "language": "python",
   "name": "python3"
  },
  "language_info": {
   "codemirror_mode": {
    "name": "ipython",
    "version": 3
   },
   "file_extension": ".py",
   "mimetype": "text/x-python",
   "name": "python",
   "nbconvert_exporter": "python",
   "pygments_lexer": "ipython3",
   "version": "3.6.5"
  }
 },
 "nbformat": 4,
 "nbformat_minor": 1
}
