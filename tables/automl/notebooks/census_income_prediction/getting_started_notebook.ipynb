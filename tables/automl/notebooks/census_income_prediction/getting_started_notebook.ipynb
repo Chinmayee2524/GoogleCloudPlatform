{
 "cells": [
  {
   "cell_type": "markdown",
   "metadata": {
    "colab_type": "text",
    "id": "m26YhtBMvVWA"
   },
   "source": [
    "# Getting started with AutoML Tables\n",
    "\n",
    "To use this Colab notebook, copy it to your own Google Drive and open it with [Colaboratory](https://colab.research.google.com/) (or Colab). To run a cell hold the Shift key and press the Enter key (or Return key). Colab automatically displays the return value of the last line in each cell. Refer to [this page](https://colab.research.google.com/notebooks/welcome.ipynb) for more information on Colab.\n",
    "\n",
    "You can run a Colab notebook on a hosted runtime in the Cloud. The hosted VM times out after 90 minutes of inactivity and you will lose all the data stored in the memory including your authentication data. If your session gets disconnected (for example, because you closed your laptop) for less than the 90 minute inactivity timeout limit, press 'RECONNECT' on the top right corner of your notebook and resume the session. After Colab timeout, you'll need to\n",
    "\n",
    "1.   Re-run the initialization and authentication.\n",
    "2.   Continue from where you left off. You may need to copy-paste the value of some variables such as the `dataset_name` from the printed output of the previous cells.\n",
    "\n",
    "Alternatively you can connect your Colab notebook to a [local runtime](https://research.google.com/colaboratory/local-runtimes.html).\n",
    "\n"
   ]
  },
  {
   "cell_type": "markdown",
   "metadata": {
    "colab_type": "text",
    "id": "b--5FDDwCG9C"
   },
   "source": [
    "## 1. Project set up\n",
    "\n",
    "\n",
    "\n"
   ]
  },
  {
   "cell_type": "markdown",
   "metadata": {
    "colab_type": "text",
    "id": "AZs0ICgy4jkQ"
   },
   "source": [
    "Follow the [AutoML Tables documentation](https://cloud.google.com/automl-tables/docs/) to\n",
    "* Create a Google Cloud Platform (GCP) project.\n",
    "* Enable billing.\n",
    "* Apply to whitelist your project.\n",
    "* Enable AutoML API.\n",
    "* Enable AutoML Tables API.\n",
    "* Create a service account, grant required permissions, and download the service account private key.\n",
    "\n",
    "You also need to upload your data into Google Cloud Storage (GCS) or BigQuery. For example, to use GCS as your data source\n",
    "* Create a GCS bucket.\n",
    "* Upload the training and batch prediction files.\n",
    "\n",
    "\n",
    "**Warning:** Private keys must be kept secret. If you expose your private key it is recommended to revoke it immediately from the Google Cloud Console."
   ]
  },
  {
   "cell_type": "markdown",
   "metadata": {
    "colab_type": "text",
    "id": "xZECt1oL429r"
   },
   "source": [
    "\n",
    "\n",
    "---\n",
    "\n"
   ]
  },
  {
   "cell_type": "markdown",
   "metadata": {
    "colab_type": "text",
    "id": "rstRPH9SyZj_"
   },
   "source": [
    "## 2. Initialize and authenticate\n",
    "This section runs intialization and authentication. It creates an authenticated session which is required for running any of the following sections."
   ]
  },
  {
   "cell_type": "markdown",
   "metadata": {
    "colab_type": "text",
    "id": "BR0POq2UzE7e"
   },
   "source": [
    "### Install the client library\n",
    "Run the following cell."
   ]
  },
  {
   "cell_type": "code",
   "execution_count": null,
   "metadata": {
    "colab": {},
    "colab_type": "code",
    "id": "43aXKjDRt_qZ"
   },
   "outputs": [],
   "source": [
    "#@title Install AutoML Tables client library { vertical-output: true }\n",
    "!pip install google-cloud-automl"
   ]
  },
  {
   "cell_type": "markdown",
   "metadata": {
    "colab_type": "text",
    "id": "0uX4aJYUiXh5"
   },
   "source": [
    "Enter your GCP project ID."
   ]
  },
  {
   "cell_type": "code",
   "execution_count": null,
   "metadata": {
    "colab": {},
    "colab_type": "code",
    "id": "6R4h5HF1Dtds"
   },
   "outputs": [],
   "source": [
    "#@title GCP project ID and location\n",
    "\n",
    "project_id = 'lwiots' #@param {type:'string'}\n",
    "region = 'us-central1'"
   ]
  },
  {
   "cell_type": "markdown",
   "metadata": {
    "colab_type": "text",
    "id": "eVFsPPEociwF"
   },
   "source": [
    "### Authenticate using service account key\n",
    "Run the following cell. Click on the 'Choose Files' button and select the service account private key file. If your Service Account key file or folder is hidden, you can reveal it in a Mac by pressing the <b>Command + Shift + .</b> combo."
   ]
  },
  {
   "cell_type": "code",
   "execution_count": null,
   "metadata": {
    "colab": {},
    "colab_type": "code",
    "id": "u-kCqysAuaJk"
   },
   "outputs": [],
   "source": [
    "#@title Authenticate and create a client. { vertical-output: true }\n",
    "\n",
    "from google.colab import files\n",
    "from google.cloud import automl_v1beta1\n",
    "from google.oauth2 import service_account\n",
    "\n",
    "# Upload service account key\n",
    "keyfile_upload = files.upload()\n",
    "keyfile_name = list(keyfile_upload.keys())[0]\n",
    "\n",
    "# Authenticate and create an AutoML client.\n",
    "client = automl_v1beta1.TablesClient(\n",
    "    project=project_id,\n",
    "    region=region,\n",
    "    credentials=service_account.Credentials.from_service_account_file(keyfile_name)\n",
    ")"
   ]
  },
  {
   "cell_type": "markdown",
   "metadata": {
    "colab_type": "text",
    "id": "s3F2xbEJdDvN"
   },
   "source": [
    "### Test"
   ]
  },
  {
   "cell_type": "markdown",
   "metadata": {
    "colab_type": "text",
    "id": "rUlBcZ3OfWcJ"
   },
   "source": [
    "To test whether your project set up and authentication steps were successful, run the following cell to list your datasets."
   ]
  },
  {
   "cell_type": "code",
   "execution_count": null,
   "metadata": {
    "cellView": "both",
    "colab": {},
    "colab_type": "code",
    "id": "sf32nKXIqYje"
   },
   "outputs": [],
   "source": [
    "#@title List datasets. { vertical-output: true }\n",
    "\n",
    "list_datasets_response = client.list_datasets()\n",
    "datasets = {\n",
    "    dataset.display_name: dataset.name for dataset in list_datasets_response\n",
    "}\n",
    "datasets"
   ]
  },
  {
   "cell_type": "markdown",
   "metadata": {
    "colab_type": "text",
    "id": "t9uE8MvMkOPd"
   },
   "source": [
    "You can also print the list of your models by running the following cell."
   ]
  },
  {
   "cell_type": "code",
   "execution_count": null,
   "metadata": {
    "cellView": "both",
    "colab": {},
    "colab_type": "code",
    "id": "j4-bYRSWj7xk"
   },
   "outputs": [],
   "source": [
    "#@title List models. { vertical-output: true }\n",
    "\n",
    "list_models_response = client.list_models()\n",
    "models = {model.display_name: model.name for model in list_models_response}\n",
    "models"
   ]
  },
  {
   "cell_type": "markdown",
   "metadata": {
    "colab_type": "text",
    "id": "qozQWMnOu48y"
   },
   "source": [
    "\n",
    "\n",
    "---\n",
    "\n"
   ]
  },
  {
   "cell_type": "markdown",
   "metadata": {
    "colab_type": "text",
    "id": "ODt86YuVDZzm"
   },
   "source": [
    "## 3. Import training data"
   ]
  },
  {
   "cell_type": "markdown",
   "metadata": {
    "colab_type": "text",
    "id": "XwjZc9Q62Fm5"
   },
   "source": [
    "### Create dataset"
   ]
  },
  {
   "cell_type": "markdown",
   "metadata": {
    "colab_type": "text",
    "id": "_JfZFGSceyE_"
   },
   "source": [
    "Select a dataset display name and pass your table source information to create a new dataset."
   ]
  },
  {
   "cell_type": "code",
   "execution_count": null,
   "metadata": {
    "colab": {},
    "colab_type": "code",
    "id": "Z_JErW3cw-0J"
   },
   "outputs": [],
   "source": [
    "#@title Create dataset { vertical-output: true, output-height: 200 }\n",
    "\n",
    "dataset_display_name = 'test_census_income_pred' #@param {type: 'string'}\n",
    "\n",
    "dataset = client.create_dataset(dataset_display_name)\n",
    "dataset"
   ]
  },
  {
   "cell_type": "markdown",
   "metadata": {
    "colab_type": "text",
    "id": "35YZ9dy34VqJ"
   },
   "source": [
    "### Import data"
   ]
  },
  {
   "cell_type": "markdown",
   "metadata": {
    "colab_type": "text",
    "id": "3c0o15gVREAw"
   },
   "source": [
    "You can import your data to AutoML Tables from GCS or BigQuery. For this tutorial, you can use the [census_income dataset](https://storage.cloud.google.com/cloud-ml-data/automl-tables/notebooks/census_income.csv) \n",
    "as your training data. You can create a GCS bucket and upload the  data intofa your bucket. The URI for your file is `gs://BUCKET_NAME/FOLDER_NAME1/FOLDER_NAME2/.../FILE_NAME`. Alternatively you can create a BigQuery table and upload the data into the table. The URI for your table is `bq://PROJECT_ID.DATASET_ID.TABLE_ID`.\n",
    "\n",
    "Importing data may take a few minutes or hours depending on the size of your data. If your Colab times out, run the following command to retrieve your dataset. Replace `dataset_name` with its actual value obtained in the preceding cells.\n",
    "\n",
    "    dataset = client.get_dataset(dataset_name)"
   ]
  },
  {
   "cell_type": "code",
   "execution_count": null,
   "metadata": {
    "colab": {},
    "colab_type": "code",
    "id": "UIWlq3NTYhOl"
   },
   "outputs": [],
   "source": [
    "#@title ... if data source is GCS { vertical-output: true }\n",
    "\n",
    "gcs_input_uris = ['gs://cloud-ml-data/automl-tables/notebooks/census_income.csv',] #@param\n",
    "import_data_response = client.import_data(dataset=dataset, gcs_input_uris=gcs_input_uris)"
   ]
  },
  {
   "cell_type": "code",
   "execution_count": null,
   "metadata": {
    "colab": {},
    "colab_type": "code",
    "id": "bB_GdeqCJW5i"
   },
   "outputs": [],
   "source": [
    "#@title ... if data source is BigQuery { vertical-output: true }\n",
    "\n",
    "bigquery_input_uri = 'bq://my-project-trial5.census_income.income_census' #@param {type: 'string'}\n",
    "import_data_response = client.import_data(dataset=dataset, bigquery_input_uris=bigquery_input_uris)"
   ]
  },
  {
   "cell_type": "code",
   "execution_count": null,
   "metadata": {
    "colab": {},
    "colab_type": "code",
    "id": "FNVYfpoXJsNB"
   },
   "outputs": [],
   "source": [
    " #@title Import data { vertical-output: true }\n",
    "\n",
    "print('Dataset import operation: {}'.format(import_data_response.operation))\n",
    "# Wait until import is done.\n",
    "import_data_result = import_data_response.result()\n",
    "import_data_result"
   ]
  },
  {
   "cell_type": "markdown",
   "metadata": {
    "colab_type": "text",
    "id": "QdxBI4s44ZRI"
   },
   "source": [
    "### Review the specs"
   ]
  },
  {
   "cell_type": "markdown",
   "metadata": {
    "colab_type": "text",
    "id": "RC0PWKqH4jwr"
   },
   "source": [
    "Run the following command to see table specs such as row count."
   ]
  },
  {
   "cell_type": "code",
   "execution_count": null,
   "metadata": {
    "colab": {},
    "colab_type": "code",
    "id": "v2Vzq_gwXxo-"
   },
   "outputs": [],
   "source": [
    "#@title Table schema { vertical-output: true }\n",
    "\n",
    "import google.cloud.automl_v1beta1.proto.data_types_pb2 as data_types\n",
    "import matplotlib.pyplot as plt\n",
    "\n",
    "# List table specs\n",
    "list_table_specs_response = client.list_table_specs(dataset=dataset)\n",
    "table_specs = [s for s in list_table_specs_response]\n",
    "# List column specs\n",
    "table_spec_name = table_specs[0].name\n",
    "list_column_specs_response = client.list_column_specs(dataset=dataset)\n",
    "column_specs = {s.display_name: s for s in list_column_specs_response}\n",
    "# Table schema pie chart.\n",
    "type_counts = {}\n",
    "for column_spec in column_specs.values():\n",
    "  type_name = data_types.TypeCode.Name(column_spec.data_type.type_code)\n",
    "  type_counts[type_name] = type_counts.get(type_name, 0) + 1\n",
    "\n",
    "plt.pie(x=type_counts.values(), labels=type_counts.keys(), autopct='%1.1f%%')\n",
    "plt.axis('equal')\n",
    "plt.show()\n"
   ]
  },
  {
   "cell_type": "markdown",
   "metadata": {
    "colab_type": "text",
    "id": "vcJP7xoq4yAJ"
   },
   "source": [
    "Run the following command to see column specs such inferred schema."
   ]
  },
  {
   "cell_type": "markdown",
   "metadata": {
    "colab_type": "text",
    "id": "FNykW_YOYt6d"
   },
   "source": [
    "___"
   ]
  },
  {
   "cell_type": "markdown",
   "metadata": {
    "colab_type": "text",
    "id": "kNRVJqVOL8h3"
   },
   "source": [
    "## 4. Update dataset: assign a label column and enable nullable columns"
   ]
  },
  {
   "cell_type": "markdown",
   "metadata": {
    "colab_type": "text",
    "id": "-57gehId9PQ5"
   },
   "source": [
    "AutoML Tables automatically detects your data column type. For example, for the ([census_income](https://storage.cloud.google.com/cloud-ml-data/automl-tables/notebooks/census_income.csv)) it detects `income` to be categorical (as it is just either over or under 50k) and `age` to be numerical. Depending on the type of your label column, AutoML Tables chooses to run a classification or regression model. If your label column contains only numerical values, but they represent categories, change your label column type to categorical by updating your schema."
   ]
  },
  {
   "cell_type": "markdown",
   "metadata": {
    "colab_type": "text",
    "id": "iRqdQ7Xiq04x"
   },
   "source": [
    "### Update a column: set to nullable"
   ]
  },
  {
   "cell_type": "code",
   "execution_count": null,
   "metadata": {
    "colab": {},
    "colab_type": "code",
    "id": "OCEUIPKegWrf"
   },
   "outputs": [],
   "source": [
    "#@title Update dataset { vertical-output: true }\n",
    "\n",
    "client.update_column_spec(\n",
    "    dataset=dataset, \n",
    "    column_spec_display_name='income', \n",
    "    type_code='CATEGORY'\n",
    ")"
   ]
  },
  {
   "cell_type": "markdown",
   "metadata": {
    "colab_type": "text",
    "id": "GUqKi3tkqrgW"
   },
   "source": [
    "**Tip:** You can use `type_code='CATEGORY'` to convert the column data type from `FLOAT64` to `CATEGORY`."
   ]
  },
  {
   "cell_type": "markdown",
   "metadata": {
    "colab_type": "text",
    "id": "nDMH_chybe4w"
   },
   "source": [
    "### Update dataset: assign a label"
   ]
  },
  {
   "cell_type": "code",
   "execution_count": null,
   "metadata": {
    "colab": {},
    "colab_type": "code",
    "id": "hVIruWg0u33t"
   },
   "outputs": [],
   "source": [
    "#@title Update dataset { vertical-output: true }\n",
    "\n",
    "client.set_target_column(dataset=dataset, \n",
    "                         column_spec_display_name='income')"
   ]
  },
  {
   "cell_type": "markdown",
   "metadata": {
    "colab_type": "text",
    "id": "z23NITLrcxmi"
   },
   "source": [
    "___"
   ]
  },
  {
   "cell_type": "markdown",
   "metadata": {
    "colab_type": "text",
    "id": "FcKgvj1-Tbgj"
   },
   "source": [
    "## 5. Creating a model"
   ]
  },
  {
   "cell_type": "markdown",
   "metadata": {
    "colab_type": "text",
    "id": "Pnlk8vdQlO_k"
   },
   "source": [
    "### Train a model\n",
    "Specify the duration of the training. For example, `'train_budget_milli_node_hours': 1000` runs the training for one hour. If your Colab times out, use `client.list_models(location_path)` to check whether your model has been created. Then use model name to continue to the next steps. Run the following command to retrieve your model. Replace `model_name` with its actual value.\n",
    "\n",
    "    model = client.get_model(model_name)"
   ]
  },
  {
   "cell_type": "code",
   "execution_count": null,
   "metadata": {
    "colab": {},
    "colab_type": "code",
    "id": "11izNd6Fu37N"
   },
   "outputs": [],
   "source": [
    "#@title Create model { vertical-output: true }\n",
    "\n",
    "model_display_name = 'census_income_model' #@param {type:'string'}\n",
    "\n",
    "create_model_response = client.create_model(\n",
    "    model_display_name, \n",
    "    dataset=dataset, \n",
    "    train_budget_milli_node_hours=1000\n",
    ")\n",
    "\n",
    "print('Dataset import operation: {}'.format(create_model_response.operation))\n",
    "\n",
    "# Wait until model training is done.\n",
    "model = create_model_response.result()\n",
    "model"
   ]
  },
  {
   "cell_type": "markdown",
   "metadata": {
    "colab_type": "text",
    "id": "1wS1is9IY5nK"
   },
   "source": [
    "___"
   ]
  },
  {
   "cell_type": "markdown",
   "metadata": {
    "colab_type": "text",
    "id": "LMYmHSiCE8om"
   },
   "source": [
    "## 6. Make a prediction"
   ]
  },
  {
   "cell_type": "markdown",
   "metadata": {
    "colab_type": "text",
    "id": "G2WVbMFll96k"
   },
   "source": [
    "### There are two different prediction modes: online and batch. The following cells show you how to make an online prediction. "
   ]
  },
  {
   "cell_type": "markdown",
   "metadata": {
    "colab_type": "text",
    "id": "ZAGi8Co-SU-b"
   },
   "source": [
    "Run the following cell, and then choose the desired test values for your online prediction."
   ]
  },
  {
   "cell_type": "code",
   "execution_count": null,
   "metadata": {
    "colab": {},
    "colab_type": "code",
    "id": "yt-KXEEQu3-U"
   },
   "outputs": [],
   "source": [
    "#@title Make an online prediction: set the categorical variables{ vertical-output: true }\n",
    "from ipywidgets import interact\n",
    "import ipywidgets as widgets\n",
    "\n",
    "workclass_ids = ['Private', 'Self-emp-not-inc', 'Self-emp-inc', 'Federal-gov', 'Local-gov', 'State-gov', 'Without-pay', 'Never-worked']\n",
    "education_ids = ['Bachelors', 'Some-college', '11th', 'HS-grad', 'Prof-school', 'Assoc-acdm', 'Assoc-voc', '9th', '7th-8th', '12th', 'Masters', '1st-4th', '10th', 'Doctorate', '5th-6th', 'Preschool']\n",
    "marital_status_ids = ['Married-civ-spouse', 'Divorced', 'Never-married', 'Separated', 'Widowed', 'Married-spouse-absent', 'Married-AF-spouse']\n",
    "occupation_ids = ['Tech-support', 'Craft-repair', 'Other-service', 'Sales', 'Exec-managerial', 'Prof-specialty', 'Handlers-cleaners', 'Machine-op-inspct', 'Adm-clerical', 'Farming-fishing', 'Transport-moving', 'Priv-house-serv', 'Protective-serv', 'Armed-Forces']\n",
    "relationship_ids = ['Wife', 'Own-child', 'Husband', 'Not-in-family', 'Other-relative', 'Unmarried']\n",
    "race_ids = ['White', 'Asian-Pac-Islander', 'Amer-Indian-Eskimo', 'Other', 'Black']\n",
    "sex_ids = ['Female', 'Male']\n",
    "native_country_ids = ['United-States', 'Cambodia', 'England', 'Puerto-Rico', 'Canada', 'Germany', 'Outlying-US(Guam-USVI-etc)', 'India', 'Japan', 'Greece', 'South', 'China', 'Cuba', 'Iran', 'Honduras', 'Philippines', 'Italy', 'Poland', 'Jamaica', 'Vietnam', 'Mexico', 'Portugal', 'Ireland', 'France', 'Dominican-Republic', 'Laos', 'Ecuador', 'Taiwan', 'Haiti', 'Columbia', 'Hungary', 'Guatemala', 'Nicaragua', 'Scotland', 'Thailand', 'Yugoslavia', 'El-Salvador', 'Trinadad&Tobago', 'Peru', 'Hong', 'Holand-Netherlands']\n",
    "workclass = widgets.Dropdown(options=workclass_ids, value=workclass_ids[0],\n",
    "                             description='workclass:')\n",
    "\n",
    "education = widgets.Dropdown(options=education_ids, value=education_ids[0],\n",
    "                             description='education:', width='500px')\n",
    "\n",
    "marital_status = widgets.Dropdown(options=marital_status_ids, value=marital_status_ids[0],\n",
    "                                  description='marital status:', width='500px')\n",
    "\n",
    "occupation = widgets.Dropdown(options=occupation_ids, value=occupation_ids[0],\n",
    "                              description='occupation:', width='500px')\n",
    "\n",
    "relationship = widgets.Dropdown(options=relationship_ids, value=relationship_ids[0],\n",
    "                                description='relationship:', width='500px')\n",
    "\n",
    "race = widgets.Dropdown(options=race_ids, value=race_ids[0],\n",
    "                        description='race:', width='500px')\n",
    "\n",
    "sex = widgets.Dropdown(options=sex_ids, value=sex_ids[0],\n",
    "                       description='sex:', width='500px')\n",
    "\n",
    "native_country = widgets.Dropdown(options=native_country_ids, value=native_country_ids[0],\n",
    "                                  description='native_country:', width='500px')\n",
    "\n",
    "display(workclass)\n",
    "display(education)\n",
    "display(marital_status)\n",
    "display(occupation)\n",
    "display(relationship)\n",
    "display(race)\n",
    "display(sex)\n",
    "display(native_country)\n"
   ]
  },
  {
   "cell_type": "markdown",
   "metadata": {
    "colab_type": "text",
    "id": "xGVGwgwXSZe_"
   },
   "source": [
    "Adjust the slides on the right to the desired test values for your online prediction."
   ]
  },
  {
   "cell_type": "code",
   "execution_count": null,
   "metadata": {
    "colab": {},
    "colab_type": "code",
    "id": "bDzd5GYQSdpa"
   },
   "outputs": [],
   "source": [
    "#@title Make an online prediction: set the numeric variables{ vertical-output: true }\n",
    "\n",
    "age = 34 #@param {type:'slider', min:1, max:100, step:1}\n",
    "capital_gain = 40000 #@param {type:'slider', min:0, max:100000, step:10000}\n",
    "capital_loss = 3.8 #@param {type:'slider', min:0, max:4000, step:0.1}\n",
    "fnlwgt = 150000 #@param {type:'slider', min:0, max:1000000, step:50000}\n",
    "education_num = 9 #@param {type:'slider', min:1, max:16, step:1}\n",
    "hours_per_week = 40 #@param {type:'slider', min:1, max:100, step:1}\n"
   ]
  },
  {
   "cell_type": "code",
   "execution_count": null,
   "metadata": {
    "colab": {},
    "colab_type": "code",
    "id": "kRoHFbVnSk05"
   },
   "outputs": [],
   "source": [
    "response = client.deploy_model(model=model)\n",
    "response.result()\n"
   ]
  },
  {
   "cell_type": "markdown",
   "metadata": {
    "colab_type": "text",
    "id": "0tymBrhLSnDX"
   },
   "source": [
    "Run the prediction, only after the model finishes deployment"
   ]
  },
  {
   "cell_type": "code",
   "execution_count": null,
   "metadata": {
    "colab": {},
    "colab_type": "code",
    "id": "Kc4SKLLPSoKz"
   },
   "outputs": [],
   "source": [
    "inputs = {\n",
    "    'age': age,\n",
    "    'workclass': workclass.value,\n",
    "    'fnlwgt': fnlwgt,\n",
    "    'education': education.value,\n",
    "    'education_num': education_num,\n",
    "    'marital_status': marital_status.value,\n",
    "    'occupation': occupation.value,\n",
    "    'relationship': relationship.value,\n",
    "    'race': race.value,\n",
    "    'sex': sex.value,\n",
    "    'capital_gain': capital_gain,\n",
    "    'capital_loss': capital_loss,\n",
    "    'hours_per_week': hours_per_week,\n",
    "    'native_country': native_country.value\n",
    "}\n",
    "\n",
    "prediction_client.predict(model=model, inputs=inputs)"
   ]
  },
  {
   "cell_type": "markdown",
   "metadata": {
    "colab_type": "text",
    "id": "O9CRdIfrS1nb"
   },
   "source": [
    "Undeploy the model"
   ]
  },
  {
   "cell_type": "code",
   "execution_count": null,
   "metadata": {
    "colab": {},
    "colab_type": "code",
    "id": "DWa1idtOS0GE"
   },
   "outputs": [],
   "source": [
    "response = client.undeploy_model(model=model)"
   ]
  },
  {
   "cell_type": "markdown",
   "metadata": {
    "colab_type": "text",
    "id": "TarOq84-GXch"
   },
   "source": [
    "## 7. Batch prediction"
   ]
  },
  {
   "cell_type": "markdown",
   "metadata": {
    "colab_type": "text",
    "id": "Soy5OB8Wbp_R"
   },
   "source": [
    "### Initialize prediction"
   ]
  },
  {
   "cell_type": "markdown",
   "metadata": {
    "colab_type": "text",
    "id": "39bIGjIlau5a"
   },
   "source": [
    "Your data source for batch prediction can be GCS or BigQuery. For this tutorial, you can use [census_income_batch_prediction_input.csv](https://storage.cloud.google.com/cloud-ml-data/automl-tables/notebooks/census_income_batch_prediction_input.csv) as input source. Create a GCS bucket and upload the file into your bucket. Some of the lines in the batch prediction input file are intentionally left missing some values. The AutoML Tables logs the errors in the `errors.csv` file.\n",
    "Also, enter the UI and create the bucket into which you will load your predictions. The bucket's default name here is automl-tables-pred.\n",
    "\n",
    "**NOTE:** The client library has a bug. If the following cell returns a `TypeError: Could not convert Any to BatchPredictResult` error, ignore it. The batch prediction output file(s) will be updated to the GCS bucket that you set in the preceding cells."
   ]
  },
  {
   "cell_type": "code",
   "execution_count": null,
   "metadata": {
    "colab": {},
    "colab_type": "code",
    "id": "gkF3bH0qu4DU"
   },
   "outputs": [],
   "source": [
    "#@title Start batch prediction { vertical-output: true, output-height: 200 }\n",
    "\n",
    "batch_predict_gcs_input_uris = ['gs://cloud-ml-data/automl-tables/notebooks/census_income_batch_prediction_input.csv',] #@param\n",
    "batch_predict_gcs_output_uri_prefix = 'gs://automl-tables-pred1' #@param {type:'string'}\n",
    "\n",
    "batch_predict_response = prediction_client.batch_predict(\n",
    "    model=model, \n",
    "    gcs_input_uris=gcs_input_uris, \n",
    "    gcs_output_uri_prefix=gcs_output_uri_prefix\n",
    ")\n",
    "\n",
    "print('Batch prediction operation: {}'.format(batch_predict_response.operation))\n",
    "# Wait until batch prediction is done.\n",
    "batch_predict_result = batch_predict_response.result()\n",
    "batch_predict_response.metadata"
   ]
  }
 ],
 "metadata": {
  "colab": {
   "collapsed_sections": [],
   "name": "census_income_prediction.ipynb",
   "provenance": [],
   "version": "0.3.2"
  },
  "kernelspec": {
   "display_name": "Python 3",
   "language": "python",
   "name": "python3"
  },
  "language_info": {
   "codemirror_mode": {
    "name": "ipython",
    "version": 3
   },
   "file_extension": ".py",
   "mimetype": "text/x-python",
   "name": "python",
   "nbconvert_exporter": "python",
   "pygments_lexer": "ipython3",
   "version": "3.6.5"
  }
 },
 "nbformat": 4,
 "nbformat_minor": 1
}
